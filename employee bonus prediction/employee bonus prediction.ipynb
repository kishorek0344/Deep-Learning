{
 "cells": [
  {
   "cell_type": "code",
   "execution_count": 12,
   "id": "5e066679",
   "metadata": {},
   "outputs": [
    {
     "data": {
      "text/html": [
       "<div>\n",
       "<style scoped>\n",
       "    .dataframe tbody tr th:only-of-type {\n",
       "        vertical-align: middle;\n",
       "    }\n",
       "\n",
       "    .dataframe tbody tr th {\n",
       "        vertical-align: top;\n",
       "    }\n",
       "\n",
       "    .dataframe thead th {\n",
       "        text-align: right;\n",
       "    }\n",
       "</style>\n",
       "<table border=\"1\" class=\"dataframe\">\n",
       "  <thead>\n",
       "    <tr style=\"text-align: right;\">\n",
       "      <th></th>\n",
       "      <th>employee_id</th>\n",
       "      <th>performance</th>\n",
       "      <th>years_of_experience</th>\n",
       "      <th>projects_completed</th>\n",
       "      <th>bonus</th>\n",
       "    </tr>\n",
       "  </thead>\n",
       "  <tbody>\n",
       "    <tr>\n",
       "      <th>0</th>\n",
       "      <td>EMP_001</td>\n",
       "      <td>7</td>\n",
       "      <td>1</td>\n",
       "      <td>3</td>\n",
       "      <td>116</td>\n",
       "    </tr>\n",
       "    <tr>\n",
       "      <th>1</th>\n",
       "      <td>EMP_002</td>\n",
       "      <td>4</td>\n",
       "      <td>8</td>\n",
       "      <td>10</td>\n",
       "      <td>136</td>\n",
       "    </tr>\n",
       "    <tr>\n",
       "      <th>2</th>\n",
       "      <td>EMP_003</td>\n",
       "      <td>8</td>\n",
       "      <td>4</td>\n",
       "      <td>5</td>\n",
       "      <td>150</td>\n",
       "    </tr>\n",
       "    <tr>\n",
       "      <th>3</th>\n",
       "      <td>EMP_004</td>\n",
       "      <td>5</td>\n",
       "      <td>4</td>\n",
       "      <td>7</td>\n",
       "      <td>118</td>\n",
       "    </tr>\n",
       "    <tr>\n",
       "      <th>4</th>\n",
       "      <td>EMP_005</td>\n",
       "      <td>7</td>\n",
       "      <td>5</td>\n",
       "      <td>6</td>\n",
       "      <td>146</td>\n",
       "    </tr>\n",
       "  </tbody>\n",
       "</table>\n",
       "</div>"
      ],
      "text/plain": [
       "  employee_id  performance  years_of_experience  projects_completed  bonus\n",
       "0     EMP_001            7                    1                   3    116\n",
       "1     EMP_002            4                    8                  10    136\n",
       "2     EMP_003            8                    4                   5    150\n",
       "3     EMP_004            5                    4                   7    118\n",
       "4     EMP_005            7                    5                   6    146"
      ]
     },
     "execution_count": 12,
     "metadata": {},
     "output_type": "execute_result"
    }
   ],
   "source": [
    "import pandas as pd\n",
    "\n",
    "df = pd.read_csv(\"bonus.csv\")\n",
    "df.head()"
   ]
  },
  {
   "cell_type": "code",
   "execution_count": 13,
   "id": "ce7724ed",
   "metadata": {},
   "outputs": [
    {
     "data": {
      "text/plain": [
       "(1000, 5)"
      ]
     },
     "execution_count": 13,
     "metadata": {},
     "output_type": "execute_result"
    }
   ],
   "source": [
    "df.shape"
   ]
  },
  {
   "cell_type": "code",
   "execution_count": 14,
   "id": "a26e308f",
   "metadata": {},
   "outputs": [],
   "source": [
    "from sklearn.model_selection import train_test_split\n",
    "\n",
    "X = df[['performance','years_of_experience','projects_completed']].values\n",
    "y =df[['bonus']].values\n",
    "\n",
    "X_train,X_test,y_train,y_test = train_test_split(X,y,test_size=0.2,random_state=0)"
   ]
  },
  {
   "cell_type": "code",
   "execution_count": 15,
   "id": "5adfce17",
   "metadata": {},
   "outputs": [
    {
     "data": {
      "text/plain": [
       "(800, 3)"
      ]
     },
     "execution_count": 15,
     "metadata": {},
     "output_type": "execute_result"
    }
   ],
   "source": [
    "X_train.shape"
   ]
  },
  {
   "cell_type": "code",
   "execution_count": 16,
   "id": "4b5e0b43",
   "metadata": {},
   "outputs": [
    {
     "data": {
      "text/plain": [
       "(200, 3)"
      ]
     },
     "execution_count": 16,
     "metadata": {},
     "output_type": "execute_result"
    }
   ],
   "source": [
    "X_test.shape"
   ]
  },
  {
   "cell_type": "code",
   "execution_count": 17,
   "id": "acf59ba2",
   "metadata": {},
   "outputs": [],
   "source": [
    "import torch\n",
    "import torch.nn as nn\n",
    "import torch.optim as optim"
   ]
  },
  {
   "cell_type": "code",
   "execution_count": 18,
   "id": "6e02acba",
   "metadata": {},
   "outputs": [],
   "source": [
    "X_train_tensor = torch.tensor(X_train, dtype=torch.float32)\n",
    "X_test_tensor = torch.tensor(X_test, dtype=torch.float32)\n",
    "y_train_tensor = torch.tensor(y_train, dtype=torch.float32)\n",
    "y_test_tensor = torch.tensor(y_test, dtype=torch.float32)"
   ]
  },
  {
   "cell_type": "code",
   "execution_count": 21,
   "id": "85f59587",
   "metadata": {},
   "outputs": [],
   "source": [
    "class BonusPredictor(nn.Module):\n",
    "    def __init__(self):\n",
    "        super().__init__()\n",
    "        self.network = nn.Sequential(\n",
    "            nn.Linear(3,1)  #3 input and 1 ouput (bias internally created automatically)\n",
    "        )\n",
    "    def forward(self,x):\n",
    "        return self.network(x)"
   ]
  },
  {
   "cell_type": "code",
   "execution_count": 24,
   "id": "abaf88e6",
   "metadata": {},
   "outputs": [],
   "source": [
    "model = BonusPredictor()\n",
    "criterion = nn.MSELoss()\n",
    "optimizer = optim.SGD(model.parameters(), lr=0.005)"
   ]
  },
  {
   "cell_type": "code",
   "execution_count": 25,
   "id": "dd6983d6",
   "metadata": {},
   "outputs": [
    {
     "name": "stdout",
     "output_type": "stream",
     "text": [
      "Epoch [100/5000], loss:  21.71\n",
      "Epoch [200/5000], loss:  18.85\n",
      "Epoch [300/5000], loss:  16.51\n",
      "Epoch [400/5000], loss:  14.50\n",
      "Epoch [500/5000], loss:  12.76\n",
      "Epoch [600/5000], loss:  11.23\n",
      "Epoch [700/5000], loss:  9.89\n",
      "Epoch [800/5000], loss:  8.70\n",
      "Epoch [900/5000], loss:  7.66\n",
      "Epoch [1000/5000], loss:  6.75\n",
      "Epoch [1100/5000], loss:  5.94\n",
      "Epoch [1200/5000], loss:  5.23\n",
      "Epoch [1300/5000], loss:  4.61\n",
      "Epoch [1400/5000], loss:  4.05\n",
      "Epoch [1500/5000], loss:  3.57\n",
      "Epoch [1600/5000], loss:  3.14\n",
      "Epoch [1700/5000], loss:  2.77\n",
      "Epoch [1800/5000], loss:  2.44\n",
      "Epoch [1900/5000], loss:  2.15\n",
      "Epoch [2000/5000], loss:  1.89\n",
      "Epoch [2100/5000], loss:  1.66\n",
      "Epoch [2200/5000], loss:  1.46\n",
      "Epoch [2300/5000], loss:  1.29\n",
      "Epoch [2400/5000], loss:  1.14\n",
      "Epoch [2500/5000], loss:  1.00\n",
      "Epoch [2600/5000], loss:  0.88\n",
      "Epoch [2700/5000], loss:  0.77\n",
      "Epoch [2800/5000], loss:  0.68\n",
      "Epoch [2900/5000], loss:  0.60\n",
      "Epoch [3000/5000], loss:  0.53\n",
      "Epoch [3100/5000], loss:  0.47\n",
      "Epoch [3200/5000], loss:  0.41\n",
      "Epoch [3300/5000], loss:  0.36\n",
      "Epoch [3400/5000], loss:  0.32\n",
      "Epoch [3500/5000], loss:  0.28\n",
      "Epoch [3600/5000], loss:  0.25\n",
      "Epoch [3700/5000], loss:  0.22\n",
      "Epoch [3800/5000], loss:  0.19\n",
      "Epoch [3900/5000], loss:  0.17\n",
      "Epoch [4000/5000], loss:  0.15\n",
      "Epoch [4100/5000], loss:  0.13\n",
      "Epoch [4200/5000], loss:  0.11\n",
      "Epoch [4300/5000], loss:  0.10\n",
      "Epoch [4400/5000], loss:  0.09\n",
      "Epoch [4500/5000], loss:  0.08\n",
      "Epoch [4600/5000], loss:  0.07\n",
      "Epoch [4700/5000], loss:  0.06\n",
      "Epoch [4800/5000], loss:  0.05\n",
      "Epoch [4900/5000], loss:  0.05\n",
      "Epoch [5000/5000], loss:  0.04\n"
     ]
    }
   ],
   "source": [
    "epochs = 5000\n",
    "for epoch in range(epochs):\n",
    "    # 1. Forward pass\n",
    "    predictions = model(X_train_tensor)\n",
    "    loss = criterion(predictions,y_train_tensor)\n",
    "    \n",
    "    # 2. backward pass\n",
    "    optimizer.zero_grad()\n",
    "    loss.backward()\n",
    "    \n",
    "    # 3. update the weights\n",
    "    optimizer.step()\n",
    "    \n",
    "    \n",
    "    if (epoch +1)%100 ==0:\n",
    "        print(f\"Epoch [{epoch +1}/{epochs}], loss: {loss.item(): 0.2f}\")"
   ]
  },
  {
   "cell_type": "code",
   "execution_count": 27,
   "id": "ff523dde",
   "metadata": {},
   "outputs": [
    {
     "name": "stdout",
     "output_type": "stream",
     "text": [
      "Test  Loss:  0.04\n"
     ]
    }
   ],
   "source": [
    "model.eval()\n",
    "\n",
    "with torch.no_grad():\n",
    "    test_predictions= model(X_test_tensor)\n",
    "    test_loss = criterion(test_predictions, y_test_tensor)\n",
    "\n",
    "    print(f\"Test  Loss: {test_loss.item(): 0.2f}\")"
   ]
  },
  {
   "cell_type": "code",
   "execution_count": 28,
   "id": "73dcc7b8",
   "metadata": {},
   "outputs": [
    {
     "data": {
      "text/plain": [
       "tensor([[189.9580],\n",
       "        [150.1558],\n",
       "        [113.7308],\n",
       "        [ 51.7011]])"
      ]
     },
     "execution_count": 28,
     "metadata": {},
     "output_type": "execute_result"
    }
   ],
   "source": [
    "test_predictions[:4]"
   ]
  },
  {
   "cell_type": "code",
   "execution_count": 29,
   "id": "e62ac44c",
   "metadata": {},
   "outputs": [
    {
     "data": {
      "text/plain": [
       "tensor([[190.],\n",
       "        [150.],\n",
       "        [114.],\n",
       "        [ 52.]])"
      ]
     },
     "execution_count": 29,
     "metadata": {},
     "output_type": "execute_result"
    }
   ],
   "source": [
    "y_test_tensor[:4]"
   ]
  },
  {
   "cell_type": "code",
   "execution_count": 30,
   "id": "67cff6a7",
   "metadata": {},
   "outputs": [
    {
     "name": "stdout",
     "output_type": "stream",
     "text": [
      "Name: network.0.weight, Value: Parameter containing:\n",
      "tensor([[12.0334,  5.8425,  2.1876]], requires_grad=True)\n",
      "Name: network.0.bias, Value: Parameter containing:\n",
      "tensor([19.2323], requires_grad=True)\n"
     ]
    }
   ],
   "source": [
    "for name, value in model.named_parameters():\n",
    "    print(f\"Name: {name}, Value: {value}\")"
   ]
  },
  {
   "cell_type": "code",
   "execution_count": null,
   "id": "a2c16638",
   "metadata": {},
   "outputs": [],
   "source": []
  }
 ],
 "metadata": {
  "kernelspec": {
   "display_name": "Python 3 (ipykernel)",
   "language": "python",
   "name": "python3"
  },
  "language_info": {
   "codemirror_mode": {
    "name": "ipython",
    "version": 3
   },
   "file_extension": ".py",
   "mimetype": "text/x-python",
   "name": "python",
   "nbconvert_exporter": "python",
   "pygments_lexer": "ipython3",
   "version": "3.11.4"
  }
 },
 "nbformat": 4,
 "nbformat_minor": 5
}
