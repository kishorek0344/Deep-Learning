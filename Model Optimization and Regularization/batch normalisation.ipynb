{
 "cells": [
  {
   "cell_type": "code",
   "execution_count": 1,
   "id": "2f2aa5b9",
   "metadata": {},
   "outputs": [],
   "source": [
    "import torch\n",
    "import torch.nn as nn\n",
    "import torch.optim as optim\n",
    "from torch.utils.data import DataLoader, Subset\n",
    "from torchvision import datasets, transforms\n",
    "import numpy as np\n",
    "from sklearn.metrics import accuracy_score\n",
    "from matplotlib import pyplot as plt\n",
    "\n",
    "# Device configuration\n",
    "device = torch.device(\"cuda\" if torch.cuda.is_available() else \"cpu\")"
   ]
  },
  {
   "cell_type": "code",
   "execution_count": 2,
   "id": "126b6559",
   "metadata": {},
   "outputs": [
    {
     "name": "stderr",
     "output_type": "stream",
     "text": [
      "100%|█████████████████████████████████████████████████████████████████████████████| 9.91M/9.91M [00:03<00:00, 3.30MB/s]\n",
      "100%|█████████████████████████████████████████████████████████████████████████████| 28.9k/28.9k [00:00<00:00, 52.8kB/s]\n",
      "100%|██████████████████████████████████████████████████████████████████████████████| 1.65M/1.65M [00:07<00:00, 220kB/s]\n",
      "100%|█████████████████████████████████████████████████████████████████████████████| 4.54k/4.54k [00:00<00:00, 3.84MB/s]\n"
     ]
    }
   ],
   "source": [
    "# Load and normalize the MNIST dataset\n",
    "transform = transforms.Compose([transforms.ToTensor(), transforms.Normalize((0.5,), (0.5,))])\n",
    "\n",
    "full_train_dataset = datasets.MNIST(root=\"data\", train=True, download=True, transform=transform)\n",
    "full_test_dataset = datasets.MNIST(root=\"data\", train=False, download=True, transform=transform)\n",
    "\n",
    "\n",
    "train_subset = Subset(full_train_dataset, torch.arange(5000))\n",
    "test_subset = Subset(full_test_dataset, torch.arange(1000))\n",
    "\n",
    "train_loader = DataLoader(train_subset, batch_size=60, shuffle=True)\n",
    "test_loader = DataLoader(test_subset, batch_size=60, shuffle=True)"
   ]
  },
  {
   "cell_type": "code",
   "execution_count": 3,
   "id": "4510b56c",
   "metadata": {},
   "outputs": [],
   "source": [
    "# Define the model\n",
    "class MNISTClassifier(nn.Module):\n",
    "    def __init__(self):\n",
    "        super().__init__()\n",
    "        self.network = nn.Sequential(\n",
    "            nn.Flatten(),\n",
    "            nn.Linear(28*28, 128),  \n",
    "            nn.ReLU(),\n",
    "            nn.Linear(128, 64), \n",
    "            nn.ReLU(),\n",
    "            nn.Linear(64, 10)\n",
    "        )\n",
    "\n",
    "    def forward(self, x):\n",
    "        return self.network(x)"
   ]
  },
  {
   "cell_type": "code",
   "execution_count": 4,
   "id": "9ec81cb1",
   "metadata": {},
   "outputs": [],
   "source": [
    "def train_model(model, train_loader, test_loader, optimizer, criterion, epochs=5):\n",
    "    \n",
    "    val_accuracies = []\n",
    "    \n",
    "    for epoch in range(epochs):\n",
    "        # Training \n",
    "        model.train()\n",
    "        for batch, (images, labels) in enumerate(train_loader):\n",
    "            images = images.to(device)\n",
    "            labels = labels.to(device)\n",
    "            optimizer.zero_grad()          # Zero the gradients\n",
    "            outputs = model(images)        # Forward pass\n",
    "            loss = criterion(outputs, labels) # Compute loss\n",
    "            loss.backward()                # Backpropagate\n",
    "            optimizer.step()               # Update weights\n",
    "            \n",
    "            if batch%100 == 0:\n",
    "                print(f\"Epoch {epoch}, Batch: {batch}, Train Loss: {loss.item():0.2f}\")\n",
    "            \n",
    "        \n",
    "        # Evaluation\n",
    "        model.eval()\n",
    "        y_pred, y_true = [], []\n",
    "        with torch.no_grad():\n",
    "            for inputs, labels in test_loader:\n",
    "                inputs, labels = inputs.to(device), labels.to(device)\n",
    "                outputs = model(inputs)\n",
    "                loss = criterion(outputs, labels)\n",
    "                _, predicted = torch.max(outputs, 1)\n",
    "                y_pred.extend(predicted.cpu().numpy())\n",
    "                y_true.extend(labels.cpu().numpy())\n",
    "        val_accuracy = accuracy_score(y_true, y_pred)\n",
    "        val_accuracies.append(val_accuracy)\n",
    "        \n",
    "    return val_accuracies"
   ]
  },
  {
   "cell_type": "code",
   "execution_count": 5,
   "id": "8b0576fb",
   "metadata": {},
   "outputs": [
    {
     "name": "stdout",
     "output_type": "stream",
     "text": [
      "Epoch 0, Batch: 0, Train Loss: 2.32\n",
      "Epoch 1, Batch: 0, Train Loss: 0.49\n",
      "Epoch 2, Batch: 0, Train Loss: 0.60\n",
      "Epoch 3, Batch: 0, Train Loss: 0.30\n",
      "Epoch 4, Batch: 0, Train Loss: 0.46\n",
      "Epoch 5, Batch: 0, Train Loss: 0.25\n",
      "Epoch 6, Batch: 0, Train Loss: 0.35\n",
      "Epoch 7, Batch: 0, Train Loss: 0.15\n",
      "Epoch 8, Batch: 0, Train Loss: 0.06\n",
      "Epoch 9, Batch: 0, Train Loss: 0.23\n"
     ]
    }
   ],
   "source": [
    "# Instantiate the model, define loss function and optimizer\n",
    "model = MNISTClassifier().to(device)\n",
    "criterion = nn.CrossEntropyLoss()\n",
    "optimizer = optim.Adam(model.parameters(), lr=0.001)\n",
    "\n",
    "val_accuracies_no_bn = train_model(model, train_loader, test_loader, optimizer, criterion, 10)"
   ]
  },
  {
   "cell_type": "code",
   "execution_count": 6,
   "id": "13afc70f",
   "metadata": {},
   "outputs": [
    {
     "name": "stdout",
     "output_type": "stream",
     "text": [
      "[0.835, 0.856, 0.86, 0.86, 0.888, 0.895, 0.889, 0.895, 0.892, 0.896]\n"
     ]
    }
   ],
   "source": [
    "print(val_accuracies_no_bn)"
   ]
  },
  {
   "cell_type": "markdown",
   "id": "ace1d1c2",
   "metadata": {},
   "source": [
    "WITH BATCH NORMALISATION"
   ]
  },
  {
   "cell_type": "code",
   "execution_count": 7,
   "id": "280fa67c",
   "metadata": {},
   "outputs": [],
   "source": [
    "# Define the model\n",
    "class MNISTClassifierWithBN(nn.Module):\n",
    "    def __init__(self):\n",
    "        super().__init__()\n",
    "        self.network = nn.Sequential(\n",
    "            nn.Flatten(),\n",
    "            nn.Linear(28*28, 128),  \n",
    "            nn.BatchNorm1d(128),\n",
    "            nn.ReLU(),\n",
    "            nn.Linear(128, 64), \n",
    "            nn.BatchNorm1d(64),\n",
    "            nn.ReLU(),\n",
    "            nn.Linear(64, 10)\n",
    "        )\n",
    "\n",
    "    def forward(self, x):\n",
    "        return self.network(x)"
   ]
  },
  {
   "cell_type": "code",
   "execution_count": 8,
   "id": "aea9029f",
   "metadata": {},
   "outputs": [
    {
     "name": "stdout",
     "output_type": "stream",
     "text": [
      "Epoch 0, Batch: 0, Train Loss: 2.29\n",
      "Epoch 1, Batch: 0, Train Loss: 0.45\n",
      "Epoch 2, Batch: 0, Train Loss: 0.12\n",
      "Epoch 3, Batch: 0, Train Loss: 0.12\n",
      "Epoch 4, Batch: 0, Train Loss: 0.07\n",
      "Epoch 5, Batch: 0, Train Loss: 0.11\n",
      "Epoch 6, Batch: 0, Train Loss: 0.02\n",
      "Epoch 7, Batch: 0, Train Loss: 0.02\n",
      "Epoch 8, Batch: 0, Train Loss: 0.02\n",
      "Epoch 9, Batch: 0, Train Loss: 0.02\n"
     ]
    }
   ],
   "source": [
    "# Instantiate the model, define loss function and optimizer\n",
    "model_with_bn = MNISTClassifierWithBN().to(device)\n",
    "criterion_with_bn = nn.CrossEntropyLoss()\n",
    "optimizer_with_bn = optim.Adam(model_with_bn.parameters(), lr=0.001)\n",
    "\n",
    "val_accuracies_with_bn = train_model(model_with_bn, train_loader, test_loader, optimizer_with_bn, criterion_with_bn, 10)"
   ]
  },
  {
   "cell_type": "code",
   "execution_count": 9,
   "id": "461a7573",
   "metadata": {},
   "outputs": [
    {
     "data": {
      "text/plain": [
       "[0.882, 0.902, 0.922, 0.918, 0.932, 0.942, 0.934, 0.93, 0.943, 0.935]"
      ]
     },
     "execution_count": 9,
     "metadata": {},
     "output_type": "execute_result"
    }
   ],
   "source": [
    "val_accuracies_with_bn"
   ]
  },
  {
   "cell_type": "code",
   "execution_count": 10,
   "id": "3aac9e7d",
   "metadata": {},
   "outputs": [
    {
     "data": {
      "image/png": "[encoded data removed]",
      "text/plain": [
       "<Figure size 640x480 with 1 Axes>"
      ]
     },
     "metadata": {},
     "output_type": "display_data"
    }
   ],
   "source": [
    "plt.plot(val_accuracies_no_bn, label=\"Validation Accuracy (No Batch)\")\n",
    "plt.plot(val_accuracies_with_bn, label=\"Validation Accuracy (With Batch)\")\n",
    "plt.legend()\n",
    "plt.show()"
   ]
  },
  {
   "cell_type": "code",
   "execution_count": null,
   "id": "c413dd03",
   "metadata": {},
   "outputs": [],
   "source": []
  }
 ],
 "metadata": {
  "kernelspec": {
   "display_name": "Python 3 (ipykernel)",
   "language": "python",
   "name": "python3"
  },
  "language_info": {
   "codemirror_mode": {
    "name": "ipython",
    "version": 3
   },
   "file_extension": ".py",
   "mimetype": "text/x-python",
   "name": "python",
   "nbconvert_exporter": "python",
   "pygments_lexer": "ipython3",
   "version": "3.11.4"
  }
 },
 "nbformat": 4,
 "nbformat_minor": 5
}
