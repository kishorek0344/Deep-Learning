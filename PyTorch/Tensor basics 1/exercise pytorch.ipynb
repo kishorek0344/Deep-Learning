{
 "cells": [
  {
   "cell_type": "code",
   "execution_count": 1,
   "id": "fc066c19",
   "metadata": {},
   "outputs": [],
   "source": [
    "import torch"
   ]
  },
  {
   "cell_type": "code",
   "execution_count": 2,
   "id": "29be87ae",
   "metadata": {},
   "outputs": [
    {
     "name": "stdout",
     "output_type": "stream",
     "text": [
      "using device cuda\n"
     ]
    }
   ],
   "source": [
    "device = torch.device(\"cuda\" if torch.cuda.is_available() else \"cpu\")\n",
    "print(f\"using device {device}\")"
   ]
  },
  {
   "cell_type": "markdown",
   "id": "067d9712",
   "metadata": {},
   "source": [
    "**Task1: Inventory Management**\n",
    "\n",
    "AI Town’s warehouse uses sensors to record the inventory of 5 items every day. Each day’s data is represented as a list of integers (number of units)."
   ]
  },
  {
   "cell_type": "code",
   "execution_count": 3,
   "id": "fdc22c70",
   "metadata": {},
   "outputs": [
    {
     "name": "stdout",
     "output_type": "stream",
     "text": [
      "tensor([[12, 15, 10,  0,  5],\n",
      "        [10,  8,  7,  5,  4],\n",
      "        [20, 10, 15,  5,  2]])\n"
     ]
    }
   ],
   "source": [
    "#1 Create a PyTorch Tensor from the following inventory data\n",
    "inventory = [[12, 15, 10, 0, 5],\n",
    "             [10, 8, 7, 5, 4],\n",
    "             [20, 10, 15, 5, 2]]\n",
    "\n",
    "inventory_tensor = torch.tensor(inventory)\n",
    "print(inventory_tensor)"
   ]
  },
  {
   "cell_type": "code",
   "execution_count": 4,
   "id": "ddaafe37",
   "metadata": {},
   "outputs": [
    {
     "name": "stdout",
     "output_type": "stream",
     "text": [
      "tensor([42, 33, 32, 10, 11])\n"
     ]
    }
   ],
   "source": [
    "#2 Find the total inventory for each item across all days\n",
    "\n",
    "total_inventory = inventory_tensor.sum(dim=0)\n",
    "print(total_inventory)"
   ]
  },
  {
   "cell_type": "code",
   "execution_count": 5,
   "id": "9dd054ae",
   "metadata": {},
   "outputs": [
    {
     "name": "stdout",
     "output_type": "stream",
     "text": [
      "tensor([ 8.4000,  6.8000, 10.4000])\n"
     ]
    }
   ],
   "source": [
    "#3 Find the average inventory per day\n",
    "\n",
    "average_inventory = inventory_tensor.mean(dim=1,dtype=torch.float32)\n",
    "print(average_inventory)"
   ]
  },
  {
   "cell_type": "markdown",
   "id": "b9194bbc",
   "metadata": {},
   "source": [
    "**Task2: Monitoring Vehicle Flow**\n",
    "\n",
    "AI Town uses a sensor to monitor the number of vehicles passing through two main roads every hour. The data for one day (24 hours) is represented as two\n",
    "1×24 tensors."
   ]
  },
  {
   "cell_type": "code",
   "execution_count": 6,
   "id": "b0673a7b",
   "metadata": {},
   "outputs": [
    {
     "name": "stdout",
     "output_type": "stream",
     "text": [
      "tensor([106,  82,  97, 118,  64, 179, 127,  93,  99, 140, 133, 129, 106, 129,\n",
      "         56, 191,  67, 187, 129,  99, 182, 131, 136, 142])\n",
      "tensor([139,  89, 159, 158, 119, 153, 149, 130,  73, 110, 185, 133, 108, 183,\n",
      "        172,  60,  99, 190, 114, 111, 142, 117, 100,  83])\n"
     ]
    }
   ],
   "source": [
    "#1 Simulate this data using PyTorch's Random Functions\n",
    "\n",
    "road1 = torch.randint(50, 200, (24,))\n",
    "road2 = torch.randint(50, 200, (24,))\n",
    "print(road1)\n",
    "print(road2)"
   ]
  },
  {
   "cell_type": "code",
   "execution_count": 7,
   "id": "c34cadd8",
   "metadata": {},
   "outputs": [
    {
     "name": "stdout",
     "output_type": "stream",
     "text": [
      "tensor(2922)\n",
      "tensor(3076)\n"
     ]
    }
   ],
   "source": [
    "#2 Write the function to calculate the total vehicle flow for each road across the entire day\n",
    "total_flow_road1 = road1.sum() \n",
    "total_flow_road2 = road2.sum() \n",
    "print(total_flow_road1)\n",
    "print(total_flow_road2)"
   ]
  },
  {
   "cell_type": "code",
   "execution_count": 8,
   "id": "62f590c9",
   "metadata": {},
   "outputs": [
    {
     "name": "stdout",
     "output_type": "stream",
     "text": [
      "tensor([245, 171, 256, 276, 183, 332, 276, 223, 172, 250, 318, 262, 214, 312,\n",
      "        228, 251, 166, 377, 243, 210, 324, 248, 236, 225])\n"
     ]
    }
   ],
   "source": [
    "#3 Write the function to calculate the total vehicle flow for each hour across both roads\n",
    "total_flow_hourly  = road1 + road2\n",
    "print(total_flow_hourly)"
   ]
  },
  {
   "cell_type": "markdown",
   "id": "c9fbcca3",
   "metadata": {},
   "source": [
    "**Task3: Fitness Matrix**\n",
    "\n",
    "The AI Gym tracks members’ fitness scores using a 3×3 matrix for *strength*, *stamina*, and f*lexibility*. Each row represents a different member, and each column represents a specific metric."
   ]
  },
  {
   "cell_type": "code",
   "execution_count": 9,
   "id": "f662cd0b",
   "metadata": {},
   "outputs": [
    {
     "name": "stdout",
     "output_type": "stream",
     "text": [
      "tensor([[  8.0000,  24.0000,  45.0000],\n",
      "        [ 32.0000,  60.0000,  90.0000],\n",
      "        [ 56.0000,  96.0000, 135.0000]])\n"
     ]
    }
   ],
   "source": [
    "#1 Create a 3*3 tensor matrix and multiply the scores of each member by a weight factor: [0.8, 1.2, 1.5]\n",
    "\n",
    "fitness = torch.tensor([[10, 20, 30],\n",
    "                        [40, 50, 60],\n",
    "                        [70, 80, 90]])\n",
    "weights = torch.tensor([0.8, 1.2, 1.5])\n",
    "weighted_fitness = weights * fitness\n",
    "print(weighted_fitness)"
   ]
  },
  {
   "cell_type": "code",
   "execution_count": 10,
   "id": "d233523b",
   "metadata": {},
   "outputs": [
    {
     "name": "stdout",
     "output_type": "stream",
     "text": [
      "torch.return_types.max(\n",
      "values=tensor([ 45.,  90., 135.]),\n",
      "indices=tensor([2, 2, 2]))\n",
      "torch.return_types.max(\n",
      "values=tensor([ 56.,  96., 135.]),\n",
      "indices=tensor([2, 2, 2]))\n"
     ]
    }
   ],
   "source": [
    "#2 Find the row-wise and column-wise maximum scores\n",
    "\n",
    "row_max = weighted_fitness.max(dim=1) \n",
    "col_max = weighted_fitness.max(dim=0) \n",
    "print(row_max)\n",
    "print(col_max)"
   ]
  },
  {
   "cell_type": "code",
   "execution_count": 11,
   "id": "5d5965e6",
   "metadata": {},
   "outputs": [
    {
     "name": "stdout",
     "output_type": "stream",
     "text": [
      "tensor([[10, 40, 70],\n",
      "        [20, 50, 80],\n",
      "        [30, 60, 90]])\n"
     ]
    }
   ],
   "source": [
    "#3 Transpose the fitness matrix and interpret it's new structure (shape)\n",
    "\n",
    "transposed_fitness = fitness.t()\n",
    "print(transposed_fitness)\n"
   ]
  },
  {
   "cell_type": "markdown",
   "id": "af8fcfb7",
   "metadata": {},
   "source": [
    "**Task4: Chain Rule in Action**\n",
    "\n",
    "AI Lab is running experiments to understand the effect of temperature (\n",
    "x) on a chemical reaction rate (y). The relationship is given as:\n",
    "$y = 2x^3 + 5x^2 - 3x + 7$\n",
    "\n"
   ]
  },
  {
   "cell_type": "code",
   "execution_count": 12,
   "id": "c603f637",
   "metadata": {},
   "outputs": [
    {
     "name": "stdout",
     "output_type": "stream",
     "text": [
      "tensor(203., grad_fn=<AddBackward0>)\n"
     ]
    }
   ],
   "source": [
    "#1 Use PyTorch to compute 'y' for x = 4\n",
    "\n",
    "x = torch.tensor(4,requires_grad=True,dtype=torch.float32)\n",
    "y = 2*x**3+5*x**2-3*x+7\n",
    "print(y)"
   ]
  },
  {
   "cell_type": "code",
   "execution_count": 13,
   "id": "d699af2b",
   "metadata": {},
   "outputs": [
    {
     "name": "stdout",
     "output_type": "stream",
     "text": [
      "tensor(133.)\n"
     ]
    }
   ],
   "source": [
    "#2 Calculate dy/dx (gradient) using PyTorch's autograd\n",
    "\n",
    "y.backward(retain_graph=True)\n",
    "gradient = x.grad\n",
    "print(gradient)"
   ]
  },
  {
   "cell_type": "code",
   "execution_count": 14,
   "id": "e062552b",
   "metadata": {},
   "outputs": [],
   "source": [
    "y.backward()"
   ]
  },
  {
   "cell_type": "markdown",
   "id": "0d0151fb",
   "metadata": {},
   "source": [
    "**Task5: Camera Calibration**\n",
    "\n",
    "AI Town’s surveillance cameras need to align their focus. You are given the following matrices for two cameras’ focus adjustments:"
   ]
  },
  {
   "cell_type": "code",
   "execution_count": 15,
   "id": "4c9d6f24",
   "metadata": {},
   "outputs": [],
   "source": [
    "camera1 = torch.tensor([[1, 2], [3, 4]])\n",
    "camera2 = torch.tensor([[5, 6], [7, 8]])"
   ]
  },
  {
   "cell_type": "code",
   "execution_count": 16,
   "id": "f7433c96",
   "metadata": {},
   "outputs": [
    {
     "name": "stdout",
     "output_type": "stream",
     "text": [
      "tensor([[ 5, 12],\n",
      "        [21, 32]])\n"
     ]
    }
   ],
   "source": [
    "#1 Perform an element-wise multiplication of matrices ( Hadamard Product)\n",
    "elementwise_product = camera1 * camera2\n",
    "print(elementwise_product)"
   ]
  },
  {
   "cell_type": "code",
   "execution_count": 17,
   "id": "d5e21eb7",
   "metadata": {},
   "outputs": [
    {
     "name": "stdout",
     "output_type": "stream",
     "text": [
      "tensor([[19, 22],\n",
      "        [43, 50]])\n"
     ]
    }
   ],
   "source": [
    "#2 Compute Dot Product of the two matrices\n",
    "dot_product = torch.matmul(camera1, camera2)\n",
    "print(dot_product)"
   ]
  },
  {
   "cell_type": "code",
   "execution_count": 18,
   "id": "9b8926a5",
   "metadata": {},
   "outputs": [
    {
     "name": "stdout",
     "output_type": "stream",
     "text": [
      "tensor(-2.)\n",
      "tensor(-2.0000)\n"
     ]
    }
   ],
   "source": [
    "#3 Compute the Determinant of each matrix\n",
    "det_camera1 = torch.det(camera1.float())\n",
    "det_camera2 = torch.det(camera2.float())\n",
    "print(det_camera1)\n",
    "print(det_camera2)"
   ]
  },
  {
   "cell_type": "markdown",
   "id": "7f109d45",
   "metadata": {},
   "source": [
    "**Task6: Neural Network Foundations**\n",
    "\n",
    "Our AI University uses simplified single neuron model (perceptron):\n",
    "$$y = wx + b$$"
   ]
  },
  {
   "cell_type": "code",
   "execution_count": 20,
   "id": "01921cff",
   "metadata": {},
   "outputs": [
    {
     "name": "stdout",
     "output_type": "stream",
     "text": [
      "tensor(2., requires_grad=True)\n",
      "tensor(1., requires_grad=True)\n",
      "tensor([1, 2, 3, 4])\n"
     ]
    }
   ],
   "source": [
    "#1 Create tensors for w  = 2, b = 1, x = [1, 2, 3, 4]\n",
    "\n",
    "w = torch.tensor(2.0,requires_grad =True)\n",
    "b = torch.tensor(1.0,requires_grad =True)\n",
    "\n",
    "x = torch.tensor([1,2,3,4])\n",
    "print(w)\n",
    "print(b)\n",
    "print(x)"
   ]
  },
  {
   "cell_type": "code",
   "execution_count": 21,
   "id": "cc71c473",
   "metadata": {},
   "outputs": [
    {
     "name": "stdout",
     "output_type": "stream",
     "text": [
      "tensor([3., 5., 7., 9.], grad_fn=<AddBackward0>)\n"
     ]
    }
   ],
   "source": [
    "#2 Compute tensors for y\n",
    "y = w * x + b\n",
    "print(y)"
   ]
  },
  {
   "cell_type": "code",
   "execution_count": 23,
   "id": "4fb4ba1b",
   "metadata": {},
   "outputs": [],
   "source": [
    "y.sum().backward(retain_graph=True)"
   ]
  },
  {
   "cell_type": "code",
   "execution_count": 24,
   "id": "d5992452",
   "metadata": {},
   "outputs": [
    {
     "data": {
      "text/plain": [
       "tensor(10.)"
      ]
     },
     "execution_count": 24,
     "metadata": {},
     "output_type": "execute_result"
    }
   ],
   "source": [
    "w.grad"
   ]
  },
  {
   "cell_type": "code",
   "execution_count": 25,
   "id": "74485862",
   "metadata": {},
   "outputs": [
    {
     "data": {
      "text/plain": [
       "tensor(4.)"
      ]
     },
     "execution_count": 25,
     "metadata": {},
     "output_type": "execute_result"
    }
   ],
   "source": [
    "b.grad"
   ]
  },
  {
   "cell_type": "code",
   "execution_count": null,
   "id": "2eca2802",
   "metadata": {},
   "outputs": [],
   "source": []
  }
 ],
 "metadata": {
  "kernelspec": {
   "display_name": "Python 3 (ipykernel)",
   "language": "python",
   "name": "python3"
  },
  "language_info": {
   "codemirror_mode": {
    "name": "ipython",
    "version": 3
   },
   "file_extension": ".py",
   "mimetype": "text/x-python",
   "name": "python",
   "nbconvert_exporter": "python",
   "pygments_lexer": "ipython3",
   "version": "3.11.4"
  }
 },
 "nbformat": 4,
 "nbformat_minor": 5
}
