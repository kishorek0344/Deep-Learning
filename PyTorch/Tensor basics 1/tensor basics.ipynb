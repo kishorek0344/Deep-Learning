{
 "cells": [
  {
   "cell_type": "code",
   "execution_count": 2,
   "id": "30494806",
   "metadata": {},
   "outputs": [],
   "source": [
    "import torch"
   ]
  },
  {
   "cell_type": "markdown",
   "id": "0086c5f3",
   "metadata": {},
   "source": [
    " single value as tensor"
   ]
  },
  {
   "cell_type": "code",
   "execution_count": 7,
   "id": "b450b522",
   "metadata": {},
   "outputs": [
    {
     "data": {
      "text/plain": [
       "tensor(9)"
      ]
     },
     "execution_count": 7,
     "metadata": {},
     "output_type": "execute_result"
    }
   ],
   "source": [
    "torch.tensor(9)"
   ]
  },
  {
   "cell_type": "markdown",
   "id": "65469c51",
   "metadata": {},
   "source": [
    "array values as tensor"
   ]
  },
  {
   "cell_type": "code",
   "execution_count": 10,
   "id": "beeb178e",
   "metadata": {},
   "outputs": [],
   "source": [
    "a = torch.tensor([1,2,3,4])"
   ]
  },
  {
   "cell_type": "code",
   "execution_count": 11,
   "id": "cf38cb5a",
   "metadata": {},
   "outputs": [
    {
     "data": {
      "text/plain": [
       "tensor([1, 2, 3, 4])"
      ]
     },
     "execution_count": 11,
     "metadata": {},
     "output_type": "execute_result"
    }
   ],
   "source": [
    "a"
   ]
  },
  {
   "cell_type": "markdown",
   "id": "f62b5f4b",
   "metadata": {},
   "source": [
    "tesnor slicing"
   ]
  },
  {
   "cell_type": "code",
   "execution_count": 12,
   "id": "1bab50bf",
   "metadata": {},
   "outputs": [
    {
     "data": {
      "text/plain": [
       "tensor([1, 2])"
      ]
     },
     "execution_count": 12,
     "metadata": {},
     "output_type": "execute_result"
    }
   ],
   "source": [
    "a[:2]"
   ]
  },
  {
   "cell_type": "code",
   "execution_count": 14,
   "id": "90ecc64e",
   "metadata": {},
   "outputs": [
    {
     "data": {
      "text/plain": [
       "tensor(3)"
      ]
     },
     "execution_count": 14,
     "metadata": {},
     "output_type": "execute_result"
    }
   ],
   "source": [
    "a[2]"
   ]
  },
  {
   "cell_type": "markdown",
   "id": "bbdfe40c",
   "metadata": {},
   "source": [
    "matrices as tensor"
   ]
  },
  {
   "cell_type": "code",
   "execution_count": 17,
   "id": "06df9e71",
   "metadata": {},
   "outputs": [],
   "source": [
    "# Sales datafor Quater 1 (matrix 1)\n",
    "# Rows represent different products, columns represents diffrent regions\n",
    "\n",
    "q1 = torch.tensor([\n",
    "    [200,220,250],   # product A (iphone)\n",
    "    [150,180,210],   # product B (ipad)\n",
    "    [300,330,360]    # product C (MacBook)\n",
    "])\n",
    "\n",
    "q2= torch.tensor([\n",
    "    [209,231,259], # product A (iphone)\n",
    "    [155,192,222], # product B (ipad)\n",
    "    [310,340,375]   # product C (MacBook)\n",
    "])"
   ]
  },
  {
   "cell_type": "code",
   "execution_count": 18,
   "id": "5db03214",
   "metadata": {},
   "outputs": [
    {
     "data": {
      "text/plain": [
       "tensor([[409, 451, 509],\n",
       "        [305, 372, 432],\n",
       "        [610, 670, 735]])"
      ]
     },
     "execution_count": 18,
     "metadata": {},
     "output_type": "execute_result"
    }
   ],
   "source": [
    "q1 +q2"
   ]
  },
  {
   "cell_type": "code",
   "execution_count": 19,
   "id": "050eaaed",
   "metadata": {},
   "outputs": [
    {
     "data": {
      "text/plain": [
       "tensor([[ 9, 11,  9],\n",
       "        [ 5, 12, 12],\n",
       "        [10, 10, 15]])"
      ]
     },
     "execution_count": 19,
     "metadata": {},
     "output_type": "execute_result"
    }
   ],
   "source": [
    "q2-q1"
   ]
  },
  {
   "cell_type": "code",
   "execution_count": 21,
   "id": "e35faba2",
   "metadata": {},
   "outputs": [
    {
     "data": {
      "text/plain": [
       "tensor([[4.5000, 5.0000, 3.6000],\n",
       "        [3.3333, 6.6667, 5.7143],\n",
       "        [3.3333, 3.0303, 4.1667]])"
      ]
     },
     "execution_count": 21,
     "metadata": {},
     "output_type": "execute_result"
    }
   ],
   "source": [
    "(q2-q1)*100/q1"
   ]
  },
  {
   "cell_type": "code",
   "execution_count": 22,
   "id": "272e7140",
   "metadata": {},
   "outputs": [],
   "source": [
    "return_rate = 0.1"
   ]
  },
  {
   "cell_type": "code",
   "execution_count": 23,
   "id": "f975b74e",
   "metadata": {},
   "outputs": [
    {
     "data": {
      "text/plain": [
       "tensor([[20., 22., 25.],\n",
       "        [15., 18., 21.],\n",
       "        [30., 33., 36.]])"
      ]
     },
     "execution_count": 23,
     "metadata": {},
     "output_type": "execute_result"
    }
   ],
   "source": [
    "return_rate*q1"
   ]
  },
  {
   "cell_type": "code",
   "execution_count": 24,
   "id": "d32e54e6",
   "metadata": {},
   "outputs": [],
   "source": [
    "# profit per unit is given product and region wise\n",
    "# calculate total profit for all units per region, per product\n",
    "\n",
    "profit_per_unit = torch.tensor([\n",
    "    [30,27,25],\n",
    "    [10,18,17],\n",
    "    [45,38,39]\n",
    "])"
   ]
  },
  {
   "cell_type": "code",
   "execution_count": 25,
   "id": "879ddae9",
   "metadata": {},
   "outputs": [
    {
     "data": {
      "text/plain": [
       "tensor([[ 6000,  5940,  6250],\n",
       "        [ 1500,  3240,  3570],\n",
       "        [13500, 12540, 14040]])"
      ]
     },
     "execution_count": 25,
     "metadata": {},
     "output_type": "execute_result"
    }
   ],
   "source": [
    "profit_per_unit * q1"
   ]
  },
  {
   "cell_type": "code",
   "execution_count": 27,
   "id": "c11fa25b",
   "metadata": {},
   "outputs": [
    {
     "data": {
      "text/plain": [
       "tensor([[1100,  450, 1500]])"
      ]
     },
     "execution_count": 27,
     "metadata": {},
     "output_type": "execute_result"
    }
   ],
   "source": [
    "product_prices = torch.tensor([[1100,450,1500]])\n",
    "product_prices"
   ]
  },
  {
   "cell_type": "code",
   "execution_count": 28,
   "id": "018e7d16",
   "metadata": {},
   "outputs": [
    {
     "data": {
      "text/plain": [
       "tensor([[737500, 818000, 909500]])"
      ]
     },
     "execution_count": 28,
     "metadata": {},
     "output_type": "execute_result"
    }
   ],
   "source": [
    "# revenue per product\n",
    "torch.matmul(product_prices,q1)"
   ]
  },
  {
   "cell_type": "code",
   "execution_count": 29,
   "id": "f81cf2a6",
   "metadata": {},
   "outputs": [
    {
     "data": {
      "text/plain": [
       "tensor([[1100,  450, 1500]])"
      ]
     },
     "execution_count": 29,
     "metadata": {},
     "output_type": "execute_result"
    }
   ],
   "source": [
    "product_prices"
   ]
  },
  {
   "cell_type": "code",
   "execution_count": 30,
   "id": "270aa637",
   "metadata": {},
   "outputs": [
    {
     "data": {
      "text/plain": [
       "tensor([[1100],\n",
       "        [ 450],\n",
       "        [1500]])"
      ]
     },
     "execution_count": 30,
     "metadata": {},
     "output_type": "execute_result"
    }
   ],
   "source": [
    "product_prices.t()"
   ]
  },
  {
   "cell_type": "code",
   "execution_count": 32,
   "id": "54c1ba25",
   "metadata": {},
   "outputs": [
    {
     "data": {
      "text/plain": [
       "tensor([[200, 220, 250],\n",
       "        [150, 180, 210],\n",
       "        [300, 330, 360]])"
      ]
     },
     "execution_count": 32,
     "metadata": {},
     "output_type": "execute_result"
    }
   ],
   "source": [
    "q1"
   ]
  },
  {
   "cell_type": "code",
   "execution_count": 33,
   "id": "6a5578c5",
   "metadata": {},
   "outputs": [
    {
     "data": {
      "text/plain": [
       "tensor([[220000, 242000, 275000],\n",
       "        [ 67500,  81000,  94500],\n",
       "        [450000, 495000, 540000]])"
      ]
     },
     "execution_count": 33,
     "metadata": {},
     "output_type": "execute_result"
    }
   ],
   "source": [
    "# revenue per region\n",
    "\n",
    "prices_by_region=q1*product_prices.t()\n",
    "prices_by_region"
   ]
  },
  {
   "cell_type": "code",
   "execution_count": 34,
   "id": "2f4d4462",
   "metadata": {},
   "outputs": [
    {
     "data": {
      "text/plain": [
       "tensor(2465000)"
      ]
     },
     "execution_count": 34,
     "metadata": {},
     "output_type": "execute_result"
    }
   ],
   "source": [
    "prices_by_region.sum()"
   ]
  },
  {
   "cell_type": "code",
   "execution_count": 36,
   "id": "47ae2ed4",
   "metadata": {},
   "outputs": [
    {
     "data": {
      "text/plain": [
       "tensor([737500, 818000, 909500])"
      ]
     },
     "execution_count": 36,
     "metadata": {},
     "output_type": "execute_result"
    }
   ],
   "source": [
    "prices_by_region.sum(dim=0)"
   ]
  },
  {
   "cell_type": "markdown",
   "id": "f0a3157b",
   "metadata": {},
   "source": [
    "protfoila example"
   ]
  },
  {
   "cell_type": "code",
   "execution_count": 37,
   "id": "648366b1",
   "metadata": {},
   "outputs": [
    {
     "data": {
      "text/plain": [
       "tensor([[200.5000, 186.0000, 167.0000],\n",
       "        [187.5000, 175.4000, 163.0000],\n",
       "        [210.0000, 193.8000, 176.0000]])"
      ]
     },
     "execution_count": 37,
     "metadata": {},
     "output_type": "execute_result"
    }
   ],
   "source": [
    "# Create portfolio composition matrix (3x3)\n",
    "# Rows: Different portfolios (P1, P2, P3)\n",
    "# Columns: Asset allocation (Stocks, Bonds, Real Estate)\n",
    "portfolio_composition = torch.tensor([\n",
    "    [100.0, 50.0, 30.0],  # P1\n",
    "    [80.0, 70.0, 20.0],   # P2\n",
    "    [60.0, 40.0, 90.0]    # P3\n",
    "], dtype=torch.float32)\n",
    "\n",
    "# Create price change matrix (3x3)\n",
    "# Rows: Assets (Stocks, Bonds, Real Estate)\n",
    "# Columns: Economic scenarios (Growth, Neutral, Recession)\n",
    "price_changes = torch.tensor([\n",
    "    [1.15, 1.05, 0.85],  # Stocks\n",
    "    [1.05, 1.02, 1.10],  # Bonds\n",
    "    [1.10, 1.00, 0.90]   # Real Estate\n",
    "], dtype=torch.float32)\n",
    "\n",
    "values = torch.matmul(portfolio_composition, price_changes)\n",
    "values"
   ]
  },
  {
   "cell_type": "code",
   "execution_count": 38,
   "id": "2a31753c",
   "metadata": {},
   "outputs": [
    {
     "data": {
      "text/plain": [
       "tensor([[16641.5000, 15438.0000, 13861.0000],\n",
       "        [15562.5000, 14558.1992, 13529.0000],\n",
       "        [17430.0000, 16085.3994, 14608.0000]])"
      ]
     },
     "execution_count": 38,
     "metadata": {},
     "output_type": "execute_result"
    }
   ],
   "source": [
    "# Assume that this portfolio is in USD. You want to convert that to INR \n",
    "# Assume USD to INR conversion rate to be 83\n",
    "\n",
    "values_inr = 83*values\n",
    "values_inr"
   ]
  },
  {
   "cell_type": "markdown",
   "id": "b233caf5",
   "metadata": {},
   "source": [
    "GPU Accelaration"
   ]
  },
  {
   "cell_type": "code",
   "execution_count": 39,
   "id": "34048093",
   "metadata": {},
   "outputs": [
    {
     "data": {
      "text/plain": [
       "True"
      ]
     },
     "execution_count": 39,
     "metadata": {},
     "output_type": "execute_result"
    }
   ],
   "source": [
    "torch.cuda.is_available()"
   ]
  },
  {
   "cell_type": "code",
   "execution_count": 40,
   "id": "3f4e45b5",
   "metadata": {},
   "outputs": [
    {
     "name": "stdout",
     "output_type": "stream",
     "text": [
      "Using GPU for large-scale customer data processing\n"
     ]
    }
   ],
   "source": [
    "if torch.cuda.is_available():\n",
    "    device = torch.device(\"cuda\")\n",
    "    print(\"Using GPU for large-scale customer data processing\")\n",
    "else:\n",
    "    device = torch.device(\"cpu\")\n",
    "    print(\"Using CPU for customer data processing\")"
   ]
  },
  {
   "cell_type": "code",
   "execution_count": 41,
   "id": "8ff3895e",
   "metadata": {},
   "outputs": [
    {
     "data": {
      "text/plain": [
       "device(type='cuda')"
      ]
     },
     "execution_count": 41,
     "metadata": {},
     "output_type": "execute_result"
    }
   ],
   "source": [
    "device"
   ]
  },
  {
   "cell_type": "code",
   "execution_count": 42,
   "id": "084869a3",
   "metadata": {},
   "outputs": [
    {
     "data": {
      "text/plain": [
       "torch.Size([1000000, 3])"
      ]
     },
     "execution_count": 42,
     "metadata": {},
     "output_type": "execute_result"
    }
   ],
   "source": [
    "# Simulating customer data with 1 million customers and 3 features (age, spending score, income)\n",
    "\n",
    "customer_data = torch.rand(1_000_000, 3, device=device)\n",
    "customer_data.shape"
   ]
  },
  {
   "cell_type": "code",
   "execution_count": 44,
   "id": "ff05a601",
   "metadata": {},
   "outputs": [
    {
     "data": {
      "text/plain": [
       "tensor([[0.5274, 0.3681, 0.8630],\n",
       "        [0.8401, 0.8111, 0.1725],\n",
       "        [0.2950, 0.0637, 0.7021],\n",
       "        [0.7310, 0.1970, 0.3734],\n",
       "        [0.3356, 0.5957, 0.5695],\n",
       "        [0.7988, 0.0844, 0.3689],\n",
       "        [0.2606, 0.7396, 0.0365],\n",
       "        [0.4055, 0.7628, 0.6202]], device='cuda:0')"
      ]
     },
     "execution_count": 44,
     "metadata": {},
     "output_type": "execute_result"
    }
   ],
   "source": [
    "customer_data[:8]"
   ]
  },
  {
   "cell_type": "code",
   "execution_count": 48,
   "id": "75867efc",
   "metadata": {},
   "outputs": [
    {
     "data": {
      "text/plain": [
       "tensor([0.3681, 0.8111, 0.0637,  ..., 0.2503, 0.0642, 0.7046], device='cuda:0')"
      ]
     },
     "execution_count": 48,
     "metadata": {},
     "output_type": "execute_result"
    }
   ],
   "source": [
    "customer_data[:,1]"
   ]
  },
  {
   "cell_type": "code",
   "execution_count": 49,
   "id": "4f36e529",
   "metadata": {},
   "outputs": [
    {
     "data": {
      "text/plain": [
       "tensor([[0.8401, 0.8111, 0.1725],\n",
       "        [0.3356, 0.5957, 0.5695],\n",
       "        [0.2606, 0.7396, 0.0365],\n",
       "        ...,\n",
       "        [0.9787, 0.8335, 0.5583],\n",
       "        [0.0600, 0.9034, 0.9918],\n",
       "        [0.8097, 0.7046, 0.8262]], device='cuda:0')"
      ]
     },
     "execution_count": 49,
     "metadata": {},
     "output_type": "execute_result"
    }
   ],
   "source": [
    "high_spending_cus = customer_data[customer_data[:,1] >0.5]\n",
    "high_spending_cus"
   ]
  },
  {
   "cell_type": "code",
   "execution_count": 50,
   "id": "16ed9d5b",
   "metadata": {},
   "outputs": [
    {
     "data": {
      "text/plain": [
       "torch.Size([499914, 3])"
      ]
     },
     "execution_count": 50,
     "metadata": {},
     "output_type": "execute_result"
    }
   ],
   "source": [
    "high_spending_cus.shape"
   ]
  },
  {
   "cell_type": "code",
   "execution_count": 51,
   "id": "fe9a7924",
   "metadata": {},
   "outputs": [
    {
     "data": {
      "text/plain": [
       "tensor([[0.8401, 0.8111, 0.1725],\n",
       "        [0.3356, 0.5957, 0.5695],\n",
       "        [0.2606, 0.7396, 0.0365],\n",
       "        ...,\n",
       "        [0.9787, 0.8335, 0.5583],\n",
       "        [0.0600, 0.9034, 0.9918],\n",
       "        [0.8097, 0.7046, 0.8262]])"
      ]
     },
     "execution_count": 51,
     "metadata": {},
     "output_type": "execute_result"
    }
   ],
   "source": [
    "high_spending_cus.to(\"cpu\")"
   ]
  },
  {
   "cell_type": "code",
   "execution_count": null,
   "id": "0dd9be47",
   "metadata": {},
   "outputs": [],
   "source": []
  }
 ],
 "metadata": {
  "kernelspec": {
   "display_name": "Python 3 (ipykernel)",
   "language": "python",
   "name": "python3"
  },
  "language_info": {
   "codemirror_mode": {
    "name": "ipython",
    "version": 3
   },
   "file_extension": ".py",
   "mimetype": "text/x-python",
   "name": "python",
   "nbconvert_exporter": "python",
   "pygments_lexer": "ipython3",
   "version": "3.11.4"
  }
 },
 "nbformat": 4,
 "nbformat_minor": 5
}
