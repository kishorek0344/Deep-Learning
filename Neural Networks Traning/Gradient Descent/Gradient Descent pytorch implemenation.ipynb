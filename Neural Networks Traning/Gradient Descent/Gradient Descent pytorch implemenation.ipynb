{
 "cells": [
  {
   "cell_type": "code",
   "execution_count": 1,
   "id": "6cae99ac",
   "metadata": {},
   "outputs": [],
   "source": [
    "import torch\n",
    "import pandas as pd\n",
    "from matplotlib import pyplot as plt"
   ]
  },
  {
   "cell_type": "code",
   "execution_count": 2,
   "id": "c0c8729a",
   "metadata": {},
   "outputs": [
    {
     "data": {
      "text/html": [
       "<div>\n",
       "<style scoped>\n",
       "    .dataframe tbody tr th:only-of-type {\n",
       "        vertical-align: middle;\n",
       "    }\n",
       "\n",
       "    .dataframe tbody tr th {\n",
       "        vertical-align: top;\n",
       "    }\n",
       "\n",
       "    .dataframe thead th {\n",
       "        text-align: right;\n",
       "    }\n",
       "</style>\n",
       "<table border=\"1\" class=\"dataframe\">\n",
       "  <thead>\n",
       "    <tr style=\"text-align: right;\">\n",
       "      <th></th>\n",
       "      <th>employee_id</th>\n",
       "      <th>performance</th>\n",
       "      <th>years_of_experience</th>\n",
       "      <th>projects_completed</th>\n",
       "      <th>bonus</th>\n",
       "    </tr>\n",
       "  </thead>\n",
       "  <tbody>\n",
       "    <tr>\n",
       "      <th>0</th>\n",
       "      <td>EMP_001</td>\n",
       "      <td>7</td>\n",
       "      <td>2</td>\n",
       "      <td>4</td>\n",
       "      <td>124</td>\n",
       "    </tr>\n",
       "    <tr>\n",
       "      <th>1</th>\n",
       "      <td>EMP_002</td>\n",
       "      <td>4</td>\n",
       "      <td>1</td>\n",
       "      <td>4</td>\n",
       "      <td>82</td>\n",
       "    </tr>\n",
       "    <tr>\n",
       "      <th>2</th>\n",
       "      <td>EMP_003</td>\n",
       "      <td>8</td>\n",
       "      <td>7</td>\n",
       "      <td>10</td>\n",
       "      <td>178</td>\n",
       "    </tr>\n",
       "    <tr>\n",
       "      <th>3</th>\n",
       "      <td>EMP_004</td>\n",
       "      <td>5</td>\n",
       "      <td>7</td>\n",
       "      <td>8</td>\n",
       "      <td>138</td>\n",
       "    </tr>\n",
       "    <tr>\n",
       "      <th>4</th>\n",
       "      <td>EMP_005</td>\n",
       "      <td>7</td>\n",
       "      <td>8</td>\n",
       "      <td>9</td>\n",
       "      <td>170</td>\n",
       "    </tr>\n",
       "  </tbody>\n",
       "</table>\n",
       "</div>"
      ],
      "text/plain": [
       "  employee_id  performance  years_of_experience  projects_completed  bonus\n",
       "0     EMP_001            7                    2                   4    124\n",
       "1     EMP_002            4                    1                   4     82\n",
       "2     EMP_003            8                    7                  10    178\n",
       "3     EMP_004            5                    7                   8    138\n",
       "4     EMP_005            7                    8                   9    170"
      ]
     },
     "execution_count": 2,
     "metadata": {},
     "output_type": "execute_result"
    }
   ],
   "source": [
    "df = pd.read_csv(\"bonus_dataset.csv\")\n",
    "df.head()"
   ]
  },
  {
   "cell_type": "code",
   "execution_count": 3,
   "id": "54fc0a9d",
   "metadata": {},
   "outputs": [
    {
     "data": {
      "text/plain": [
       "(100, 5)"
      ]
     },
     "execution_count": 3,
     "metadata": {},
     "output_type": "execute_result"
    }
   ],
   "source": [
    "df.shape"
   ]
  },
  {
   "cell_type": "code",
   "execution_count": 4,
   "id": "a926c057",
   "metadata": {},
   "outputs": [
    {
     "data": {
      "text/plain": [
       "array([ 7,  4,  8,  5,  7, 10,  3,  7,  8,  5,  4,  8,  8,  3,  6,  5,  2,\n",
       "        8,  6,  2,  5,  1, 10,  6,  9,  1, 10,  3,  7,  4,  9,  3,  5,  3,\n",
       "        7,  5,  9,  7,  2,  4,  9,  2, 10,  9, 10,  5,  2,  4,  7,  8,  3,\n",
       "        1,  4,  2,  8,  4,  2,  6,  6, 10,  4,  6,  2, 10,  2, 10,  4,  8,\n",
       "        7,  9,  8,  5,  2,  5,  8, 10,  9,  9,  1,  9,  7,  9,  8,  1,  8,\n",
       "        8,  3,  1,  8,  3,  3,  1,  5, 10,  7, 10,  9,  7,  9,  8],\n",
       "      dtype=int64)"
      ]
     },
     "execution_count": 4,
     "metadata": {},
     "output_type": "execute_result"
    }
   ],
   "source": [
    "df['performance'].values"
   ]
  },
  {
   "cell_type": "code",
   "execution_count": 5,
   "id": "7208924c",
   "metadata": {},
   "outputs": [
    {
     "data": {
      "text/plain": [
       "numpy.ndarray"
      ]
     },
     "execution_count": 5,
     "metadata": {},
     "output_type": "execute_result"
    }
   ],
   "source": [
    "type(df['performance'].values)"
   ]
  },
  {
   "cell_type": "code",
   "execution_count": 6,
   "id": "f15c0cf2",
   "metadata": {},
   "outputs": [],
   "source": [
    "performance = torch.tensor(df['performance'].values, dtype=torch.float32)\n",
    "years_of_experience = torch.tensor(df['years_of_experience'].values, dtype=torch.float32)\n",
    "projects_completed = torch.tensor(df['projects_completed'].values, dtype=torch.float32)\n",
    "bonus = torch.tensor(df['bonus'].values, dtype=torch.float32)"
   ]
  },
  {
   "cell_type": "code",
   "execution_count": 22,
   "id": "b525713d",
   "metadata": {},
   "outputs": [
    {
     "data": {
      "text/plain": [
       "(tensor([0.1166], requires_grad=True),\n",
       " tensor([0.0549], requires_grad=True),\n",
       " tensor([0.7320], requires_grad=True),\n",
       " tensor([0.3553], requires_grad=True))"
      ]
     },
     "execution_count": 22,
     "metadata": {},
     "output_type": "execute_result"
    }
   ],
   "source": [
    "w1 = torch.rand(1,requires_grad=True)\n",
    "w2 = torch.rand(1,requires_grad=True)\n",
    "w3 = torch.rand(1,requires_grad=True)\n",
    "bias = torch.rand(1,requires_grad=True)\n",
    "\n",
    "w1,w2,w3,bias"
   ]
  },
  {
   "cell_type": "code",
   "execution_count": 23,
   "id": "bcc2df6e",
   "metadata": {},
   "outputs": [
    {
     "name": "stdout",
     "output_type": "stream",
     "text": [
      "Epoch: 0, loss: 18256.93\n",
      "Epoch: 100, loss: 18.15\n",
      "Epoch: 200, loss: 15.82\n",
      "Epoch: 300, loss: 13.80\n",
      "Epoch: 400, loss: 12.04\n",
      "Epoch: 500, loss: 10.51\n",
      "Epoch: 600, loss: 9.17\n",
      "Epoch: 700, loss: 8.00\n",
      "Epoch: 800, loss: 6.98\n",
      "Epoch: 900, loss: 6.10\n",
      "Epoch: 1000, loss: 5.32\n",
      "Epoch: 1100, loss: 4.64\n",
      "Epoch: 1200, loss: 4.05\n",
      "Epoch: 1300, loss: 3.54\n",
      "Epoch: 1400, loss: 3.09\n",
      "Epoch: 1500, loss: 2.69\n",
      "Epoch: 1600, loss: 2.35\n",
      "Epoch: 1700, loss: 2.05\n",
      "Epoch: 1800, loss: 1.79\n",
      "Epoch: 1900, loss: 1.56\n",
      "Epoch: 2000, loss: 1.36\n",
      "Epoch: 2100, loss: 1.19\n",
      "Epoch: 2200, loss: 1.04\n",
      "Epoch: 2300, loss: 0.91\n",
      "Epoch: 2400, loss: 0.79\n",
      "Epoch: 2500, loss: 0.69\n",
      "Epoch: 2600, loss: 0.60\n",
      "Epoch: 2700, loss: 0.53\n",
      "Epoch: 2800, loss: 0.46\n",
      "Epoch: 2900, loss: 0.40\n",
      "Epoch: 3000, loss: 0.35\n",
      "Epoch: 3100, loss: 0.31\n",
      "Epoch: 3200, loss: 0.27\n",
      "Epoch: 3300, loss: 0.23\n",
      "Epoch: 3400, loss: 0.20\n",
      "Epoch: 3500, loss: 0.18\n",
      "Epoch: 3600, loss: 0.15\n",
      "Epoch: 3700, loss: 0.13\n",
      "Epoch: 3800, loss: 0.12\n",
      "Epoch: 3900, loss: 0.10\n",
      "Epoch: 4000, loss: 0.09\n",
      "Epoch: 4100, loss: 0.08\n",
      "Epoch: 4200, loss: 0.07\n",
      "Epoch: 4300, loss: 0.06\n",
      "Epoch: 4400, loss: 0.05\n",
      "Epoch: 4500, loss: 0.05\n",
      "Epoch: 4600, loss: 0.04\n",
      "Epoch: 4700, loss: 0.03\n",
      "Epoch: 4800, loss: 0.03\n",
      "Epoch: 4900, loss: 0.03\n"
     ]
    }
   ],
   "source": [
    "epochs = 5000\n",
    "learning_rate =0.006\n",
    "\n",
    "for epoch in range(epochs):\n",
    "    \n",
    "    predicted_bonus = w1*performance + w2*years_of_experience + w3*projects_completed + bias\n",
    "    loss = ((predicted_bonus - bonus)**2).mean()\n",
    "    \n",
    "    loss.backward()\n",
    "    with torch.no_grad():\n",
    "        w1-=learning_rate*w1.grad\n",
    "        w2-=learning_rate*w2.grad\n",
    "        w3-=learning_rate*w3.grad\n",
    "        bias-=learning_rate*bias.grad\n",
    "    w1.grad.zero_()\n",
    "    w2.grad.zero_()\n",
    "    w3.grad.zero_()\n",
    "    bias.grad.zero_()\n",
    "    \n",
    "    if epoch % 100==0:\n",
    "        print(f\"Epoch: {epoch}, loss: {loss.item():0.2f}\")\n",
    "    \n",
    "    \n",
    "    "
   ]
  },
  {
   "cell_type": "code",
   "execution_count": 24,
   "id": "bd0a7ee2",
   "metadata": {},
   "outputs": [
    {
     "data": {
      "text/plain": [
       "(12.027575492858887, 5.905402660369873, 2.1261985301971436, 19.383800506591797)"
      ]
     },
     "execution_count": 24,
     "metadata": {},
     "output_type": "execute_result"
    }
   ],
   "source": [
    "w1.item(),w2.item(),w3.item(),bias.item()"
   ]
  },
  {
   "cell_type": "code",
   "execution_count": null,
   "id": "82fbf0e5",
   "metadata": {},
   "outputs": [],
   "source": []
  }
 ],
 "metadata": {
  "kernelspec": {
   "display_name": "Python 3 (ipykernel)",
   "language": "python",
   "name": "python3"
  },
  "language_info": {
   "codemirror_mode": {
    "name": "ipython",
    "version": 3
   },
   "file_extension": ".py",
   "mimetype": "text/x-python",
   "name": "python",
   "nbconvert_exporter": "python",
   "pygments_lexer": "ipython3",
   "version": "3.11.4"
  }
 },
 "nbformat": 4,
 "nbformat_minor": 5
}
