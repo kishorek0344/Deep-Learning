{
 "cells": [
  {
   "cell_type": "code",
   "execution_count": 1,
   "id": "9d5e8f70",
   "metadata": {},
   "outputs": [],
   "source": [
    "import torch\n",
    "import pandas as pd\n",
    "from matplotlib import pyplot as plt"
   ]
  },
  {
   "cell_type": "code",
   "execution_count": 2,
   "id": "833e54fc",
   "metadata": {},
   "outputs": [
    {
     "data": {
      "text/html": [
       "<div>\n",
       "<style scoped>\n",
       "    .dataframe tbody tr th:only-of-type {\n",
       "        vertical-align: middle;\n",
       "    }\n",
       "\n",
       "    .dataframe tbody tr th {\n",
       "        vertical-align: top;\n",
       "    }\n",
       "\n",
       "    .dataframe thead th {\n",
       "        text-align: right;\n",
       "    }\n",
       "</style>\n",
       "<table border=\"1\" class=\"dataframe\">\n",
       "  <thead>\n",
       "    <tr style=\"text-align: right;\">\n",
       "      <th></th>\n",
       "      <th>employee_id</th>\n",
       "      <th>performance</th>\n",
       "      <th>years_of_experience</th>\n",
       "      <th>projects_completed</th>\n",
       "      <th>bonus</th>\n",
       "    </tr>\n",
       "  </thead>\n",
       "  <tbody>\n",
       "    <tr>\n",
       "      <th>0</th>\n",
       "      <td>EMP_001</td>\n",
       "      <td>7</td>\n",
       "      <td>2</td>\n",
       "      <td>4</td>\n",
       "      <td>124</td>\n",
       "    </tr>\n",
       "    <tr>\n",
       "      <th>1</th>\n",
       "      <td>EMP_002</td>\n",
       "      <td>4</td>\n",
       "      <td>1</td>\n",
       "      <td>4</td>\n",
       "      <td>82</td>\n",
       "    </tr>\n",
       "    <tr>\n",
       "      <th>2</th>\n",
       "      <td>EMP_003</td>\n",
       "      <td>8</td>\n",
       "      <td>7</td>\n",
       "      <td>10</td>\n",
       "      <td>178</td>\n",
       "    </tr>\n",
       "    <tr>\n",
       "      <th>3</th>\n",
       "      <td>EMP_004</td>\n",
       "      <td>5</td>\n",
       "      <td>7</td>\n",
       "      <td>8</td>\n",
       "      <td>138</td>\n",
       "    </tr>\n",
       "    <tr>\n",
       "      <th>4</th>\n",
       "      <td>EMP_005</td>\n",
       "      <td>7</td>\n",
       "      <td>8</td>\n",
       "      <td>9</td>\n",
       "      <td>170</td>\n",
       "    </tr>\n",
       "  </tbody>\n",
       "</table>\n",
       "</div>"
      ],
      "text/plain": [
       "  employee_id  performance  years_of_experience  projects_completed  bonus\n",
       "0     EMP_001            7                    2                   4    124\n",
       "1     EMP_002            4                    1                   4     82\n",
       "2     EMP_003            8                    7                  10    178\n",
       "3     EMP_004            5                    7                   8    138\n",
       "4     EMP_005            7                    8                   9    170"
      ]
     },
     "execution_count": 2,
     "metadata": {},
     "output_type": "execute_result"
    }
   ],
   "source": [
    "df = pd.read_csv(\"bonus_dataset.csv\")\n",
    "df.head()"
   ]
  },
  {
   "cell_type": "code",
   "execution_count": 3,
   "id": "3c2c70e3",
   "metadata": {},
   "outputs": [
    {
     "data": {
      "text/plain": [
       "(100, 5)"
      ]
     },
     "execution_count": 3,
     "metadata": {},
     "output_type": "execute_result"
    }
   ],
   "source": [
    "df.shape"
   ]
  },
  {
   "cell_type": "code",
   "execution_count": 4,
   "id": "2b2eea1d",
   "metadata": {},
   "outputs": [
    {
     "data": {
      "text/plain": [
       "array([ 7,  4,  8,  5,  7, 10,  3,  7,  8,  5,  4,  8,  8,  3,  6,  5,  2,\n",
       "        8,  6,  2,  5,  1, 10,  6,  9,  1, 10,  3,  7,  4,  9,  3,  5,  3,\n",
       "        7,  5,  9,  7,  2,  4,  9,  2, 10,  9, 10,  5,  2,  4,  7,  8,  3,\n",
       "        1,  4,  2,  8,  4,  2,  6,  6, 10,  4,  6,  2, 10,  2, 10,  4,  8,\n",
       "        7,  9,  8,  5,  2,  5,  8, 10,  9,  9,  1,  9,  7,  9,  8,  1,  8,\n",
       "        8,  3,  1,  8,  3,  3,  1,  5, 10,  7, 10,  9,  7,  9,  8],\n",
       "      dtype=int64)"
      ]
     },
     "execution_count": 4,
     "metadata": {},
     "output_type": "execute_result"
    }
   ],
   "source": [
    "df['performance'].values"
   ]
  },
  {
   "cell_type": "markdown",
   "id": "46d3a1fd",
   "metadata": {},
   "source": [
    "Batch Gradient"
   ]
  },
  {
   "cell_type": "code",
   "execution_count": 5,
   "id": "2dabe031",
   "metadata": {},
   "outputs": [],
   "source": [
    "performance = torch.tensor(df['performance'].values, dtype=torch.float32)\n",
    "years_of_experience = torch.tensor(df['years_of_experience'].values, dtype=torch.float32)\n",
    "projects_completed\t = torch.tensor(df['projects_completed'].values, dtype=torch.float32)\n",
    "bonus = torch.tensor(df['bonus'].values, dtype=torch.float32)"
   ]
  },
  {
   "cell_type": "code",
   "execution_count": 6,
   "id": "a00efa23",
   "metadata": {},
   "outputs": [
    {
     "data": {
      "text/plain": [
       "(tensor([0.7112], requires_grad=True),\n",
       " tensor([0.1135], requires_grad=True),\n",
       " tensor([0.2654], requires_grad=True),\n",
       " tensor([0.5576], requires_grad=True))"
      ]
     },
     "execution_count": 6,
     "metadata": {},
     "output_type": "execute_result"
    }
   ],
   "source": [
    "w1 = torch.rand(1,requires_grad=True)\n",
    "w2 = torch.rand(1,requires_grad=True)\n",
    "w3 = torch.rand(1,requires_grad=True)\n",
    "bias = torch.rand(1,requires_grad=True)\n",
    "\n",
    "w1,w2,w3,bias"
   ]
  },
  {
   "cell_type": "code",
   "execution_count": 7,
   "id": "90e01c34",
   "metadata": {},
   "outputs": [
    {
     "name": "stdout",
     "output_type": "stream",
     "text": [
      "Epoch 0, loss 18024.38\n",
      "Epoch 100, loss 18.01\n",
      "Epoch 200, loss 16.07\n",
      "Epoch 300, loss 14.35\n",
      "Epoch 400, loss 12.81\n",
      "Epoch 500, loss 11.44\n",
      "Epoch 600, loss 10.21\n",
      "Epoch 700, loss 9.12\n",
      "Epoch 800, loss 8.14\n",
      "Epoch 900, loss 7.27\n",
      "Epoch 1000, loss 6.49\n",
      "Epoch 1100, loss 5.79\n",
      "Epoch 1200, loss 5.17\n",
      "Epoch 1300, loss 4.62\n",
      "Epoch 1400, loss 4.12\n",
      "Epoch 1500, loss 3.68\n",
      "Epoch 1600, loss 3.28\n",
      "Epoch 1700, loss 2.93\n",
      "Epoch 1800, loss 2.62\n",
      "Epoch 1900, loss 2.34\n",
      "Epoch 2000, loss 2.09\n",
      "Epoch 2100, loss 1.86\n",
      "Epoch 2200, loss 1.66\n",
      "Epoch 2300, loss 1.48\n",
      "Epoch 2400, loss 1.33\n",
      "Epoch 2500, loss 1.18\n",
      "Epoch 2600, loss 1.06\n",
      "Epoch 2700, loss 0.94\n",
      "Epoch 2800, loss 0.84\n",
      "Epoch 2900, loss 0.75\n",
      "Epoch 3000, loss 0.67\n",
      "Epoch 3100, loss 0.60\n",
      "Epoch 3200, loss 0.53\n",
      "Epoch 3300, loss 0.48\n",
      "Epoch 3400, loss 0.43\n",
      "Epoch 3500, loss 0.38\n",
      "Epoch 3600, loss 0.34\n",
      "Epoch 3700, loss 0.30\n",
      "Epoch 3800, loss 0.27\n",
      "Epoch 3900, loss 0.24\n",
      "Epoch 4000, loss 0.22\n",
      "Epoch 4100, loss 0.19\n",
      "Epoch 4200, loss 0.17\n",
      "Epoch 4300, loss 0.15\n",
      "Epoch 4400, loss 0.14\n",
      "Epoch 4500, loss 0.12\n",
      "Epoch 4600, loss 0.11\n",
      "Epoch 4700, loss 0.10\n",
      "Epoch 4800, loss 0.09\n",
      "Epoch 4900, loss 0.08\n"
     ]
    }
   ],
   "source": [
    "epochs = 5000\n",
    "learning_rate = 0.005\n",
    "loss_history = []\n",
    "\n",
    "for epoch in range(epochs):\n",
    "    predicted_bonus = w1*performance + w2*years_of_experience + w3*projects_completed + bias\n",
    "    loss = ((predicted_bonus-bonus)**2).mean()\n",
    "    loss_history.append(loss.item())\n",
    "    loss.backward()\n",
    "    \n",
    "    with torch.no_grad():\n",
    "        w1-= learning_rate*w1.grad\n",
    "        w2-= learning_rate*w2.grad\n",
    "        w3-= learning_rate*w3.grad\n",
    "        bias-= learning_rate*bias.grad\n",
    "    \n",
    "    w1.grad.zero_()\n",
    "    w2.grad.zero_()\n",
    "    w3.grad.zero_()\n",
    "    bias.grad.zero_()\n",
    "    \n",
    "    if epoch%100==0:\n",
    "        print(f\"Epoch {epoch}, loss {loss.item():0.2f}\")"
   ]
  },
  {
   "cell_type": "code",
   "execution_count": 8,
   "id": "0ec07d66",
   "metadata": {},
   "outputs": [
    {
     "data": {
      "text/plain": [
       "(12.047937393188477, 5.835544586181641, 2.2193942070007324, 18.928739547729492)"
      ]
     },
     "execution_count": 8,
     "metadata": {},
     "output_type": "execute_result"
    }
   ],
   "source": [
    "w1.item(),w2.item(),w3.item(),bias.item()"
   ]
  },
  {
   "cell_type": "code",
   "execution_count": 9,
   "id": "7766da24",
   "metadata": {},
   "outputs": [
    {
     "name": "stdout",
     "output_type": "stream",
     "text": [
      "\n",
      "Learned weights and bias:\n",
      "w1: 12.05, w2: 5.84, w3: 2.22, bias: 18.93\n"
     ]
    }
   ],
   "source": [
    "print(f\"\\nLearned weights and bias:\")\n",
    "print(f\"w1: {w1.item():.2f}, w2: {w2.item():.2f}, w3: {w3.item():.2f}, bias: {bias.item():.2f}\")"
   ]
  },
  {
   "cell_type": "code",
   "execution_count": null,
   "id": "fd53b768",
   "metadata": {},
   "outputs": [],
   "source": [
    "\n"
   ]
  },
  {
   "cell_type": "markdown",
   "id": "420821da",
   "metadata": {},
   "source": [
    "mini batch"
   ]
  },
  {
   "cell_type": "code",
   "execution_count": 16,
   "id": "f396c852",
   "metadata": {},
   "outputs": [
    {
     "data": {
      "text/plain": [
       "(tensor([0.8996], requires_grad=True),\n",
       " tensor([0.4037], requires_grad=True),\n",
       " tensor([0.1036], requires_grad=True),\n",
       " tensor([0.6401], requires_grad=True))"
      ]
     },
     "execution_count": 16,
     "metadata": {},
     "output_type": "execute_result"
    }
   ],
   "source": [
    "w1 = torch.rand(1,requires_grad=True)\n",
    "w2 = torch.rand(1,requires_grad=True)\n",
    "w3 = torch.rand(1,requires_grad=True)\n",
    "bias = torch.rand(1,requires_grad=True)\n",
    "\n",
    "w1,w2,w3,bias"
   ]
  },
  {
   "cell_type": "code",
   "execution_count": 18,
   "id": "b6aeb1d6",
   "metadata": {},
   "outputs": [
    {
     "name": "stdout",
     "output_type": "stream",
     "text": [
      "Epoch 0, loss 1781.83\n",
      "Epoch 100, loss 12.38\n",
      "Epoch 200, loss 10.37\n",
      "Epoch 300, loss 8.78\n",
      "Epoch 400, loss 7.48\n",
      "Epoch 500, loss 6.39\n",
      "Epoch 600, loss 5.46\n",
      "Epoch 700, loss 4.68\n",
      "Epoch 800, loss 4.00\n",
      "Epoch 900, loss 3.43\n",
      "Epoch 1000, loss 2.94\n",
      "Epoch 1100, loss 2.52\n",
      "Epoch 1200, loss 2.16\n",
      "Epoch 1300, loss 1.85\n",
      "Epoch 1400, loss 1.58\n",
      "Epoch 1500, loss 1.36\n",
      "Epoch 1600, loss 1.16\n",
      "Epoch 1700, loss 1.00\n",
      "Epoch 1800, loss 0.85\n",
      "Epoch 1900, loss 0.73\n",
      "Epoch 2000, loss 0.63\n",
      "Epoch 2100, loss 0.54\n",
      "Epoch 2200, loss 0.46\n",
      "Epoch 2300, loss 0.39\n",
      "Epoch 2400, loss 0.34\n",
      "Epoch 2500, loss 0.29\n",
      "Epoch 2600, loss 0.25\n",
      "Epoch 2700, loss 0.21\n",
      "Epoch 2800, loss 0.18\n",
      "Epoch 2900, loss 0.16\n",
      "Epoch 3000, loss 0.13\n",
      "Epoch 3100, loss 0.11\n",
      "Epoch 3200, loss 0.10\n",
      "Epoch 3300, loss 0.08\n",
      "Epoch 3400, loss 0.07\n",
      "Epoch 3500, loss 0.06\n",
      "Epoch 3600, loss 0.05\n",
      "Epoch 3700, loss 0.05\n",
      "Epoch 3800, loss 0.04\n",
      "Epoch 3900, loss 0.03\n",
      "Epoch 4000, loss 0.03\n",
      "Epoch 4100, loss 0.02\n",
      "Epoch 4200, loss 0.02\n",
      "Epoch 4300, loss 0.02\n",
      "Epoch 4400, loss 0.02\n",
      "Epoch 4500, loss 0.01\n",
      "Epoch 4600, loss 0.01\n",
      "Epoch 4700, loss 0.01\n",
      "Epoch 4800, loss 0.01\n",
      "Epoch 4900, loss 0.01\n"
     ]
    }
   ],
   "source": [
    "epochs = 5000\n",
    "learning_rate = 0.001\n",
    "loss_history = []\n",
    "batch_size = 16\n",
    "n_samples = len(performance)\n",
    "\n",
    "for epoch in range(epochs):\n",
    "    for i in range(0,n_samples,batch_size):\n",
    "        batch_performance = performance[i :i+batch_size]\n",
    "        batch_years_of_experience = years_of_experience[i:i + batch_size]\n",
    "        batch_projects_completed = projects_completed[i:i + batch_size]\n",
    "        batch_bonus = bonus[i:i + batch_size]\n",
    "    \n",
    "        predicted_bonus = w1*batch_performance + w2*batch_years_of_experience + w3*batch_projects_completed + bias\n",
    "        loss = ((predicted_bonus-batch_bonus)**2).mean()\n",
    "        loss_history.append(loss.item())\n",
    "        loss.backward()\n",
    "    \n",
    "        with torch.no_grad():\n",
    "            w1 -= learning_rate * w1.grad\n",
    "            w2 -= learning_rate * w2.grad\n",
    "            w3 -= learning_rate * w3.grad\n",
    "            bias -= learning_rate * bias.grad\n",
    "    \n",
    "        w1.grad.zero_()\n",
    "        w2.grad.zero_()\n",
    "        w3.grad.zero_()\n",
    "        bias.grad.zero_()\n",
    "        \n",
    "    if epoch%100==0:\n",
    "        print(f\"Epoch {epoch}, loss {loss.item():0.2f}\")"
   ]
  },
  {
   "cell_type": "code",
   "execution_count": 19,
   "id": "86da40be",
   "metadata": {},
   "outputs": [
    {
     "name": "stdout",
     "output_type": "stream",
     "text": [
      "Learned weights: w1 = 12.0189, w2 = 5.9491, w3 = 2.0710\n",
      "Learned bias: 19.6182\n"
     ]
    }
   ],
   "source": [
    "print(f\"Learned weights: w1 = {w1.item():.4f}, w2 = {w2.item():.4f}, w3 = {w3.item():.4f}\")\n",
    "print(f\"Learned bias: {bias.item():.4f}\")"
   ]
  },
  {
   "cell_type": "markdown",
   "id": "51b93b43",
   "metadata": {},
   "source": [
    "SGD"
   ]
  },
  {
   "cell_type": "code",
   "execution_count": 20,
   "id": "134b02fe",
   "metadata": {},
   "outputs": [
    {
     "data": {
      "text/plain": [
       "(tensor([0.8926], requires_grad=True),\n",
       " tensor([0.9761], requires_grad=True),\n",
       " tensor([0.2373], requires_grad=True),\n",
       " tensor([0.5285], requires_grad=True))"
      ]
     },
     "execution_count": 20,
     "metadata": {},
     "output_type": "execute_result"
    }
   ],
   "source": [
    "w1 = torch.rand(1,requires_grad=True)\n",
    "w2 = torch.rand(1,requires_grad=True)\n",
    "w3 = torch.rand(1,requires_grad=True)\n",
    "bias = torch.rand(1,requires_grad=True)\n",
    "\n",
    "w1,w2,w3,bias"
   ]
  },
  {
   "cell_type": "code",
   "execution_count": 21,
   "id": "b619980f",
   "metadata": {},
   "outputs": [
    {
     "name": "stdout",
     "output_type": "stream",
     "text": [
      "Epoch 0, loss 193.34\n",
      "Epoch 100, loss 221.93\n",
      "Epoch 200, loss 182.80\n",
      "Epoch 300, loss 179.34\n",
      "Epoch 400, loss 179.03\n"
     ]
    }
   ],
   "source": [
    "epochs = 500\n",
    "learning_rate = 0.001\n",
    "loss_history = []\n",
    "batch_size = 16\n",
    "n_samples = len(performance)\n",
    "\n",
    "for epoch in range(epochs):\n",
    "    for i in range(n_samples):\n",
    "        single_performance = performance[i]\n",
    "        single_years_of_experience = years_of_experience[i]\n",
    "        single_projects_completed = projects_completed[i]\n",
    "        single_bonus = bonus[i]\n",
    "    \n",
    "        predicted_bonus = w1*single_performance + w2*single_years_of_experience + w3*single_projects_completed + bias\n",
    "        loss = ((predicted_bonus-batch_bonus)**2).mean()\n",
    "        loss_history.append(loss.item())\n",
    "        loss.backward()\n",
    "    \n",
    "        with torch.no_grad():\n",
    "            w1 -= learning_rate * w1.grad\n",
    "            w2 -= learning_rate * w2.grad\n",
    "            w3 -= learning_rate * w3.grad\n",
    "            bias -= learning_rate * bias.grad\n",
    "    \n",
    "        w1.grad.zero_()\n",
    "        w2.grad.zero_()\n",
    "        w3.grad.zero_()\n",
    "        bias.grad.zero_()\n",
    "        \n",
    "    if epoch%100==0:\n",
    "        print(f\"Epoch {epoch}, loss {loss.item():0.2f}\")"
   ]
  },
  {
   "cell_type": "code",
   "execution_count": null,
   "id": "8b14485d",
   "metadata": {},
   "outputs": [],
   "source": []
  }
 ],
 "metadata": {
  "kernelspec": {
   "display_name": "Python 3 (ipykernel)",
   "language": "python",
   "name": "python3"
  },
  "language_info": {
   "codemirror_mode": {
    "name": "ipython",
    "version": 3
   },
   "file_extension": ".py",
   "mimetype": "text/x-python",
   "name": "python",
   "nbconvert_exporter": "python",
   "pygments_lexer": "ipython3",
   "version": "3.11.4"
  }
 },
 "nbformat": 4,
 "nbformat_minor": 5
}
