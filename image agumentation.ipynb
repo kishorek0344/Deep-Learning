{
 "cells": [
  {
   "cell_type": "code",
   "execution_count": 1,
   "id": "0df7fb6f",
   "metadata": {},
   "outputs": [],
   "source": [
    "import torch\n",
    "import torch.nn as nn\n",
    "import torch.optim as optim\n",
    "import torchvision\n",
    "import torchvision.transforms as transforms\n",
    "from torch.utils.data import DataLoader\n",
    "from matplotlib import pyplot as plt\n",
    "import numpy as np"
   ]
  },
  {
   "cell_type": "code",
   "execution_count": 2,
   "id": "3fcacd9f",
   "metadata": {},
   "outputs": [
    {
     "data": {
      "text/plain": [
       "device(type='cpu')"
      ]
     },
     "execution_count": 2,
     "metadata": {},
     "output_type": "execute_result"
    }
   ],
   "source": [
    "device = torch.device(\"cuda\" if torch.cuda.is_available() else \"cpu\" )\n",
    "device"
   ]
  },
  {
   "cell_type": "code",
   "execution_count": 3,
   "id": "854b9696",
   "metadata": {},
   "outputs": [],
   "source": [
    "transfrom = transforms.Compose([\n",
    "    transforms.ToTensor(),\n",
    "    transforms.Normalize((0.5,0.5,0.5), (0.5,0.5,0.5))\n",
    "])\n"
   ]
  },
  {
   "cell_type": "code",
   "execution_count": 4,
   "id": "23a688d6",
   "metadata": {},
   "outputs": [],
   "source": [
    "train_dataset = torchvision.datasets.CIFAR10(root='data', train=True,download=True,transform=transfrom)\n",
    "test_dataset = torchvision.datasets.CIFAR10(root='data', train=False,download=True,transform=transfrom)"
   ]
  },
  {
   "cell_type": "code",
   "execution_count": 5,
   "id": "026a41ff",
   "metadata": {},
   "outputs": [
    {
     "data": {
      "text/plain": [
       "(50000, 10000)"
      ]
     },
     "execution_count": 5,
     "metadata": {},
     "output_type": "execute_result"
    }
   ],
   "source": [
    "len(train_dataset), len(test_dataset)"
   ]
  },
  {
   "cell_type": "code",
   "execution_count": 6,
   "id": "73d0c194",
   "metadata": {},
   "outputs": [],
   "source": [
    "batch_size = 300\n",
    "\n",
    "train_loader = DataLoader(dataset=train_dataset, batch_size=batch_size,shuffle=True)\n",
    "test_loader = DataLoader(dataset=test_dataset, batch_size=batch_size,shuffle=False)"
   ]
  },
  {
   "cell_type": "code",
   "execution_count": 7,
   "id": "4610a2f3",
   "metadata": {},
   "outputs": [
    {
     "name": "stdout",
     "output_type": "stream",
     "text": [
      "torch.Size([300, 3, 32, 32])\n",
      "torch.Size([300])\n"
     ]
    }
   ],
   "source": [
    "for i ,(images,labels) in enumerate(train_loader):\n",
    "    print(images.shape)\n",
    "    print(labels.shape)\n",
    "    break"
   ]
  },
  {
   "cell_type": "code",
   "execution_count": 8,
   "id": "08d76549",
   "metadata": {},
   "outputs": [
    {
     "data": {
      "text/plain": [
       "tensor([1, 5, 1, 7, 0, 5, 8, 2])"
      ]
     },
     "execution_count": 8,
     "metadata": {},
     "output_type": "execute_result"
    }
   ],
   "source": [
    "labels[:8]"
   ]
  },
  {
   "cell_type": "code",
   "execution_count": 9,
   "id": "985eb267",
   "metadata": {},
   "outputs": [],
   "source": [
    "classes =(\"plane\",'car','bird','cat','deer','dog','frog','horse','ship','truck')"
   ]
  },
  {
   "cell_type": "code",
   "execution_count": 10,
   "id": "e71e8321",
   "metadata": {},
   "outputs": [],
   "source": [
    "class CNN(nn.Module):\n",
    "    def __init__(self):\n",
    "        super().__init__()\n",
    "        self.network = nn.Sequential(\n",
    "            nn.Conv2d(3,32,kernel_size=(3,3),padding='same'), #output(32,32x32)\n",
    "            nn.ReLU(),\n",
    "            nn.MaxPool2d(kernel_size=(2,2), stride=(2,2)), # output(32,16x16)\n",
    "            nn.Conv2d(32, 64,kernel_size=(3,3)), # output(64, 14x14)\n",
    "            nn.ReLU(),\n",
    "            nn.MaxPool2d(kernel_size=(2,2), stride=(2,2)),# output(64,7x7)\n",
    "        )\n",
    "        self.fc_layers = nn.Sequential(\n",
    "                nn.Flatten(),\n",
    "                nn.Linear(64*7*7,600),\n",
    "                nn.ReLU(),\n",
    "                nn.Linear(600,120),\n",
    "                nn.ReLU(),\n",
    "                nn.Linear(120,10)\n",
    "        )\n",
    "    def forward(self,x):\n",
    "        x = self.network(x)\n",
    "        x = self.fc_layers(x)\n",
    "        return x"
   ]
  },
  {
   "cell_type": "code",
   "execution_count": 20,
   "id": "3b346a04",
   "metadata": {},
   "outputs": [],
   "source": [
    "# Training function\n",
    "def train_model(model, criterion, optimizer, train_loader, val_loader, epochs=5):\n",
    "    train_losses, val_losses, val_accuracy = [], [], []\n",
    "    for epoch in range(epochs):\n",
    "        model.train()\n",
    "        train_loss = 0.0\n",
    "        for images, labels in train_loader:\n",
    "            images, labels = images.to(device), labels.to(device)\n",
    "            optimizer.zero_grad()\n",
    "            outputs = model(images)\n",
    "            loss = criterion(outputs, labels)\n",
    "            loss.backward()\n",
    "            optimizer.step()\n",
    "            train_loss += loss.item()\n",
    "        train_losses.append(train_loss / len(train_loader))\n",
    "        \n",
    "        # Validation\n",
    "        model.eval()\n",
    "        val_loss = 0.0\n",
    "        with torch.no_grad():\n",
    "            correct = 0\n",
    "            total = 0\n",
    "            for images, labels in val_loader:\n",
    "                images, labels = images.to(device), labels.to(device)\n",
    "                outputs = model(images)\n",
    "                loss = criterion(outputs, labels)\n",
    "                val_loss += loss.item()\n",
    "                _, predicted = torch.max(outputs.data, 1)\n",
    "                total += labels.size(0)\n",
    "                correct += (predicted == labels).sum().item()\n",
    "                \n",
    "        val_losses.append(val_loss / len(val_loader))\n",
    "        val_accuracy.append(correct/total)\n",
    "        \n",
    "        print(f\"Epoch {epoch+1}/{epochs}, Train Loss: {train_losses[-1]:.4f}, Val Loss: {val_losses[-1]:.4f}, Val Accuracy:  {100 * val_accuracy[-1]:.2f}%\")\n",
    "        \n",
    "    return train_losses, val_losses, val_accuracy"
   ]
  },
  {
   "cell_type": "code",
   "execution_count": 21,
   "id": "d758e83c",
   "metadata": {},
   "outputs": [
    {
     "name": "stdout",
     "output_type": "stream",
     "text": [
      "Epoch 1/5, Train Loss: 1.5338, Val Loss: 1.3183, Val Accuracy:  52.84%\n",
      "Epoch 2/5, Train Loss: 1.1630, Val Loss: 1.0910, Val Accuracy:  60.42%\n",
      "Epoch 3/5, Train Loss: 0.9829, Val Loss: 0.9660, Val Accuracy:  66.04%\n",
      "Epoch 4/5, Train Loss: 0.8448, Val Loss: 0.8947, Val Accuracy:  68.36%\n",
      "Epoch 5/5, Train Loss: 0.7405, Val Loss: 0.8709, Val Accuracy:  69.56%\n"
     ]
    }
   ],
   "source": [
    "# Hyperparameters\n",
    "num_epochs = 5\n",
    "learning_rate = 0.001\n",
    "\n",
    "model = CNN().to(device)\n",
    "criterion = nn.CrossEntropyLoss()\n",
    "optimizer = optim.Adam(model.parameters(), lr=learning_rate)\n",
    "\n",
    "# Train without augmentation\n",
    "train_losses, val_losses, val_accuracy = train_model(model, criterion, optimizer, train_loader, test_loader, epochs=5)"
   ]
  },
  {
   "cell_type": "markdown",
   "id": "7869c44c",
   "metadata": {},
   "source": [
    "With DATA Augmentation"
   ]
  },
  {
   "cell_type": "code",
   "execution_count": 22,
   "id": "ed5fcd82",
   "metadata": {},
   "outputs": [
    {
     "name": "stdout",
     "output_type": "stream",
     "text": [
      "Epoch 1/5, Train Loss: 1.4338, Val Loss: 1.1187, Val Accuracy:  60.31%\n",
      "Epoch 2/5, Train Loss: 1.0664, Val Loss: 0.9169, Val Accuracy:  67.91%\n",
      "Epoch 3/5, Train Loss: 0.9375, Val Loss: 0.8677, Val Accuracy:  70.04%\n",
      "Epoch 4/5, Train Loss: 0.8489, Val Loss: 0.8396, Val Accuracy:  70.84%\n",
      "Epoch 5/5, Train Loss: 0.7893, Val Loss: 0.7791, Val Accuracy:  73.19%\n"
     ]
    }
   ],
   "source": [
    "# import torchvision.transforms as transforms\n",
    "\n",
    "transform_with_aug = transforms.Compose([\n",
    "    transforms.RandomHorizontalFlip(),\n",
    "    transforms.RandomRotation(15),\n",
    "    transforms.ColorJitter(brightness=0.2, contrast=0.2, saturation=0.2),\n",
    "    transforms.ToTensor(),\n",
    "    transforms.Normalize(mean=[0.5, 0.5, 0.5], std=[0.5, 0.5, 0.5])\n",
    "])\n",
    "\n",
    "train_dataset_aug = torchvision.datasets.CIFAR10(root='./data', train=True, download=True, transform=transform_with_aug)\n",
    "train_loader_aug = DataLoader(train_dataset_aug, batch_size=32, shuffle=True)\n",
    "\n",
    "model_aug = CNN().to(device)\n",
    "criterion = nn.CrossEntropyLoss()\n",
    "optimizer = optim.Adam(model_aug.parameters(), lr=learning_rate)\n",
    "\n",
    "train_losses, val_losses, val_accuracy = train_model(model_aug, criterion, optimizer, train_loader_aug, test_loader, epochs=5)"
   ]
  },
  {
   "cell_type": "code",
   "execution_count": null,
   "id": "e69352c4",
   "metadata": {},
   "outputs": [],
   "source": []
  }
 ],
 "metadata": {
  "kernelspec": {
   "display_name": "Python 3 (ipykernel)",
   "language": "python",
   "name": "python3"
  },
  "language_info": {
   "codemirror_mode": {
    "name": "ipython",
    "version": 3
   },
   "file_extension": ".py",
   "mimetype": "text/x-python",
   "name": "python",
   "nbconvert_exporter": "python",
   "pygments_lexer": "ipython3",
   "version": "3.11.4"
  }
 },
 "nbformat": 4,
 "nbformat_minor": 5
}
