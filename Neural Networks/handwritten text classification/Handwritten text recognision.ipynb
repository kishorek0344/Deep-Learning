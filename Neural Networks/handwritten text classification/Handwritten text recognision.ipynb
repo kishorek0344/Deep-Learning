{
 "cells": [
  {
   "cell_type": "code",
   "execution_count": 1,
   "id": "54c0732e",
   "metadata": {},
   "outputs": [],
   "source": [
    "import torch\n",
    "import torch.nn as nn\n",
    "import torch.optim as optim\n",
    "import torchvision.transforms as transforms\n",
    "import torchvision.datasets as datasets\n",
    "from torch.utils.data import DataLoader\n",
    "\n",
    "from matplotlib import pyplot as plt"
   ]
  },
  {
   "cell_type": "code",
   "execution_count": 2,
   "id": "c09d0692",
   "metadata": {},
   "outputs": [],
   "source": [
    "%matplotlib inline"
   ]
  },
  {
   "cell_type": "code",
   "execution_count": 3,
   "id": "56d07bfe",
   "metadata": {},
   "outputs": [],
   "source": [
    "transform = transforms.Compose([\n",
    "    transforms.ToTensor(), #input it (0,255) totensor convert it to (0,1)\n",
    "    transforms.Normalize((0.5,),(0.5,)),   #(0,1) to (-1,1)\n",
    "])\n",
    "\n",
    "train_dataset = datasets.MNIST(\n",
    "root='data',\n",
    "train=True,\n",
    "transform=transform,\n",
    "download=True\n",
    ")\n",
    "\n",
    "test_dataset = datasets.MNIST(\n",
    "root='data',\n",
    "train=False,\n",
    "transform=transform,\n",
    "download=True\n",
    ")"
   ]
  },
  {
   "cell_type": "code",
   "execution_count": 4,
   "id": "293e396d",
   "metadata": {},
   "outputs": [
    {
     "data": {
      "text/plain": [
       "60000"
      ]
     },
     "execution_count": 4,
     "metadata": {},
     "output_type": "execute_result"
    }
   ],
   "source": [
    "len(train_dataset)"
   ]
  },
  {
   "cell_type": "code",
   "execution_count": 5,
   "id": "40f7d107",
   "metadata": {},
   "outputs": [
    {
     "data": {
      "text/plain": [
       "10000"
      ]
     },
     "execution_count": 5,
     "metadata": {},
     "output_type": "execute_result"
    }
   ],
   "source": [
    "len(test_dataset)"
   ]
  },
  {
   "cell_type": "code",
   "execution_count": 6,
   "id": "bcbad7ef",
   "metadata": {},
   "outputs": [],
   "source": [
    "train_loader=DataLoader(train_dataset,batch_size=64, shuffle=True)\n",
    "test_loader=DataLoader(test_dataset,batch_size=64, shuffle=True)\n",
    "\n",
    "data_iter = iter(train_loader)\n",
    "images, lables = next(data_iter)"
   ]
  },
  {
   "cell_type": "code",
   "execution_count": 7,
   "id": "143069ce",
   "metadata": {},
   "outputs": [
    {
     "data": {
      "text/plain": [
       "torch.Size([64, 1, 28, 28])"
      ]
     },
     "execution_count": 7,
     "metadata": {},
     "output_type": "execute_result"
    }
   ],
   "source": [
    "images.shape"
   ]
  },
  {
   "cell_type": "code",
   "execution_count": 8,
   "id": "dc045ba7",
   "metadata": {},
   "outputs": [
    {
     "data": {
      "text/plain": [
       "torch.Size([28, 28])"
      ]
     },
     "execution_count": 8,
     "metadata": {},
     "output_type": "execute_result"
    }
   ],
   "source": [
    "images[0].squeeze().shape"
   ]
  },
  {
   "cell_type": "code",
   "execution_count": 11,
   "id": "0770aa00",
   "metadata": {},
   "outputs": [],
   "source": [
    "class DigitsClassifier(nn.Module):\n",
    "  def __init__(self):\n",
    "    super().__init__()\n",
    "    self.network = nn.Sequential(\n",
    "      nn.Flatten(),\n",
    "      nn.Linear(784,128),\n",
    "      nn.ReLU(),\n",
    "      nn.Linear(128,64),\n",
    "      nn.ReLU(),\n",
    "      nn.Linear(64,10) \n",
    "    )\n",
    "  def forward(self,x):\n",
    "    return self.network(x)"
   ]
  },
  {
   "cell_type": "code",
   "execution_count": 12,
   "id": "854cdf46",
   "metadata": {},
   "outputs": [],
   "source": [
    "model = DigitsClassifier()\n",
    "optimiser = optim.Adam(model.parameters(),lr=0.001)\n",
    "criterion = nn.CrossEntropyLoss()"
   ]
  },
  {
   "cell_type": "code",
   "execution_count": 13,
   "id": "11d2865d",
   "metadata": {},
   "outputs": [
    {
     "name": "stdout",
     "output_type": "stream",
     "text": [
      "Epoch: 1, Loss: 0.3412761688232422\n",
      "Epoch: 2, Loss: 0.056326523423194885\n",
      "Epoch: 3, Loss: 0.05554106831550598\n",
      "Epoch: 4, Loss: 0.04046548157930374\n",
      "Epoch: 5, Loss: 0.057787250727415085\n"
     ]
    }
   ],
   "source": [
    "epochs = 5\n",
    "\n",
    "for epoch in range(epochs):\n",
    "  running_loss = 0.0\n",
    "  for images, lables in train_loader:\n",
    "\n",
    "    outputs = model(images)\n",
    "    loss = criterion(outputs,lables)\n",
    "\n",
    "    running_loss += loss.item()\n",
    "    optimiser.zero_grad()\n",
    "    loss.backward()\n",
    "\n",
    "    optimiser.step()\n",
    "  print(f'Epoch: {epoch+1}, Loss: {loss.item()}')"
   ]
  },
  {
   "cell_type": "code",
   "execution_count": 14,
   "id": "8d0b5cb8",
   "metadata": {},
   "outputs": [
    {
     "name": "stdout",
     "output_type": "stream",
     "text": [
      "tensor([0, 5, 5, 8, 8, 6, 2, 3, 6, 5, 5, 6, 6, 9, 9, 6, 9, 7, 7, 1, 4, 8, 7, 0,\n",
      "        2, 4, 1, 0, 9, 9, 1, 3, 7, 3, 8, 6, 3, 9, 8, 0, 1, 1, 0, 9, 3, 3, 8, 0,\n",
      "        4, 7, 5, 1, 6, 5, 9, 9, 4, 4, 3, 1, 3, 7, 0, 1])\n",
      "tensor([0, 5, 5, 8, 8, 6, 2, 3, 6, 5, 5, 6, 6, 9, 9, 6, 9, 7, 7, 1, 4, 8, 7, 0,\n",
      "        2, 4, 1, 0, 9, 9, 1, 3, 7, 3, 8, 6, 3, 9, 8, 0, 1, 1, 0, 9, 3, 3, 8, 0,\n",
      "        4, 7, 5, 1, 6, 5, 9, 9, 4, 4, 3, 1, 3, 7, 0, 1])\n",
      "64\n"
     ]
    }
   ],
   "source": [
    "model.eval()\n",
    "with torch.no_grad():\n",
    "  for images, lables in test_loader:\n",
    "    outputs = model(images)\n",
    "    _, predicted = torch.max(outputs.data, 1)\n",
    "    print(predicted)\n",
    "    print(lables)\n",
    "    print((predicted == lables).sum().item())\n",
    "    break\n"
   ]
  },
  {
   "cell_type": "code",
   "execution_count": 15,
   "id": "77991c4a",
   "metadata": {},
   "outputs": [
    {
     "name": "stdout",
     "output_type": "stream",
     "text": [
      "Accuracy on the test set: 96.47%\n"
     ]
    }
   ],
   "source": [
    "model.eval()\n",
    "\n",
    "total =0\n",
    "correct = 0\n",
    "\n",
    "with torch.no_grad():\n",
    "  for images, lables in test_loader:\n",
    "    outputs = model(images)\n",
    "    _, predicted = torch.max(outputs.data, 1)\n",
    "  \n",
    "    correct +=(predicted == lables).sum().item()\n",
    "    total +=lables.size(0)\n",
    "\n",
    "print(f\"Accuracy on the test set: {100 * correct/total:.2f}%\")"
   ]
  },
  {
   "cell_type": "code",
   "execution_count": 16,
   "id": "3258b54f",
   "metadata": {},
   "outputs": [
    {
     "data": {
      "text/plain": [
       "(10000, 9647)"
      ]
     },
     "execution_count": 16,
     "metadata": {},
     "output_type": "execute_result"
    }
   ],
   "source": [
    "total, correct"
   ]
  },
  {
   "cell_type": "code",
   "execution_count": 17,
   "id": "bfd2a818",
   "metadata": {},
   "outputs": [],
   "source": [
    "model.eval()\n",
    "\n",
    "all_predictions =[]\n",
    "all_labels=[]\n",
    "\n",
    "with torch.no_grad():\n",
    "  for images, lables in test_loader:\n",
    "    outputs = model(images)\n",
    "    _, predicted = torch.max(outputs.data, 1)\n",
    "    \n",
    "    all_labels.extend(lables.numpy())\n",
    "    all_predictions.extend(predicted.numpy())"
   ]
  },
  {
   "cell_type": "code",
   "execution_count": 18,
   "id": "9ae89999",
   "metadata": {},
   "outputs": [
    {
     "data": {
      "text/plain": [
       "10000"
      ]
     },
     "execution_count": 18,
     "metadata": {},
     "output_type": "execute_result"
    }
   ],
   "source": [
    "len(all_predictions)"
   ]
  },
  {
   "cell_type": "code",
   "execution_count": 19,
   "id": "6be69a8f",
   "metadata": {},
   "outputs": [
    {
     "data": {
      "text/plain": [
       "10000"
      ]
     },
     "execution_count": 19,
     "metadata": {},
     "output_type": "execute_result"
    }
   ],
   "source": [
    "len(all_labels)"
   ]
  },
  {
   "cell_type": "code",
   "execution_count": 20,
   "id": "c71ac4d4",
   "metadata": {},
   "outputs": [
    {
     "name": "stdout",
     "output_type": "stream",
     "text": [
      "              precision    recall  f1-score   support\n",
      "\n",
      "           0       0.97      0.98      0.98       980\n",
      "           1       0.98      0.99      0.98      1135\n",
      "           2       0.97      0.97      0.97      1032\n",
      "           3       0.98      0.96      0.97      1010\n",
      "           4       0.97      0.96      0.96       982\n",
      "           5       0.94      0.97      0.95       892\n",
      "           6       0.93      0.99      0.96       958\n",
      "           7       0.98      0.94      0.96      1028\n",
      "           8       0.95      0.96      0.95       974\n",
      "           9       0.97      0.93      0.95      1009\n",
      "\n",
      "    accuracy                           0.96     10000\n",
      "   macro avg       0.96      0.96      0.96     10000\n",
      "weighted avg       0.97      0.96      0.96     10000\n",
      "\n"
     ]
    }
   ],
   "source": [
    "from sklearn.metrics import classification_report\n",
    "\n",
    "report = classification_report(all_labels,all_predictions)\n",
    "print(report)"
   ]
  },
  {
   "cell_type": "code",
   "execution_count": 22,
   "id": "75c7c463",
   "metadata": {},
   "outputs": [
    {
     "data": {
      "text/plain": [
       "array([[ 959,    0,    0,    0,    2,    2,   14,    1,    2,    0],\n",
       "       [   0, 1119,    2,    1,    0,    2,    5,    1,    5,    0],\n",
       "       [   6,    1,  997,    2,    1,    0,   12,    5,    8,    0],\n",
       "       [   1,    0,    7,  968,    0,   18,    0,    5,    8,    3],\n",
       "       [   4,    0,    1,    0,  946,    4,   13,    1,    5,    8],\n",
       "       [   3,    1,    0,    3,    1,  867,   12,    0,    3,    2],\n",
       "       [   1,    2,    0,    0,    1,    5,  947,    0,    2,    0],\n",
       "       [   3,   10,   16,    2,    0,    3,    3,  971,    7,   13],\n",
       "       [   5,    0,    1,    4,    3,   10,   13,    3,  933,    2],\n",
       "       [   4,    5,    0,    5,   26,   15,    1,    4,    9,  940]],\n",
       "      dtype=int64)"
      ]
     },
     "execution_count": 22,
     "metadata": {},
     "output_type": "execute_result"
    }
   ],
   "source": [
    "from sklearn.metrics import confusion_matrix\n",
    "import seaborn as sns\n",
    "\n",
    "cm = confusion_matrix(all_labels,all_predictions)\n",
    "cm"
   ]
  },
  {
   "cell_type": "code",
   "execution_count": 23,
   "id": "b5c6c7dc",
   "metadata": {},
   "outputs": [
    {
     "data": {
      "text/plain": [
       "Text(50.722222222222214, 0.5, 'true lables')"
      ]
     },
     "execution_count": 23,
     "metadata": {},
     "output_type": "execute_result"
    },
    {
     "data": {
      "image/png": "[encoded data removed]",
      "text/plain": [
       "<Figure size 640x480 with 2 Axes>"
      ]
     },
     "metadata": {},
     "output_type": "display_data"
    }
   ],
   "source": [
    "sns.heatmap(cm,annot=True,fmt='d',cmap='Blues')\n",
    "plt.xlabel(\"Predicted lables\")\n",
    "plt.ylabel(\"true lables\")"
   ]
  },
  {
   "cell_type": "code",
   "execution_count": null,
   "id": "b2a12fa5",
   "metadata": {},
   "outputs": [],
   "source": []
  }
 ],
 "metadata": {
  "kernelspec": {
   "display_name": "Python 3 (ipykernel)",
   "language": "python",
   "name": "python3"
  },
  "language_info": {
   "codemirror_mode": {
    "name": "ipython",
    "version": 3
   },
   "file_extension": ".py",
   "mimetype": "text/x-python",
   "name": "python",
   "nbconvert_exporter": "python",
   "pygments_lexer": "ipython3",
   "version": "3.11.4"
  }
 },
 "nbformat": 4,
 "nbformat_minor": 5
}
