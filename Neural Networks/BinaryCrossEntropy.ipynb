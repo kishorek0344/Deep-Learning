{
 "cells": [
  {
   "cell_type": "code",
   "execution_count": 1,
   "id": "2e74b08a",
   "metadata": {},
   "outputs": [],
   "source": [
    "import torch\n",
    "import torch.nn as nn"
   ]
  },
  {
   "cell_type": "code",
   "execution_count": 2,
   "id": "7ced2669",
   "metadata": {},
   "outputs": [
    {
     "name": "stdout",
     "output_type": "stream",
     "text": [
      "MSE loss: 0.81\n"
     ]
    }
   ],
   "source": [
    "criterion = nn.MSELoss()\n",
    "y_pred = torch.tensor([0.9])\n",
    "y_true = torch.tensor([0], dtype = torch.float)\n",
    "loss = criterion(y_pred,y_true)\n",
    "print(f\"MSE loss: {loss.item():0.2f}\")"
   ]
  },
  {
   "cell_type": "code",
   "execution_count": 3,
   "id": "95dc5900",
   "metadata": {},
   "outputs": [
    {
     "name": "stdout",
     "output_type": "stream",
     "text": [
      "BSE loss: 2.30\n"
     ]
    }
   ],
   "source": [
    "criterion = nn.BCELoss()\n",
    "y_pred = torch.tensor([0.9])\n",
    "y_true = torch.tensor([0], dtype = torch.float)\n",
    "loss = criterion(y_pred,y_true)\n",
    "print(f\"BSE loss: {loss.item():0.2f}\")"
   ]
  },
  {
   "cell_type": "code",
   "execution_count": null,
   "id": "ea4bd692",
   "metadata": {},
   "outputs": [],
   "source": []
  }
 ],
 "metadata": {
  "kernelspec": {
   "display_name": "Python 3 (ipykernel)",
   "language": "python",
   "name": "python3"
  },
  "language_info": {
   "codemirror_mode": {
    "name": "ipython",
    "version": 3
   },
   "file_extension": ".py",
   "mimetype": "text/x-python",
   "name": "python",
   "nbconvert_exporter": "python",
   "pygments_lexer": "ipython3",
   "version": "3.11.4"
  }
 },
 "nbformat": 4,
 "nbformat_minor": 5
}
