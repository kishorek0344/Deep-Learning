{
 "cells": [
  {
   "cell_type": "code",
   "execution_count": 1,
   "id": "8043ebfc",
   "metadata": {},
   "outputs": [],
   "source": [
    "import torch\n",
    "from torch import nn, optim\n",
    "from torchvision import datasets\n",
    "from torchvision.transforms import ToTensor\n",
    "from torch.utils.data import DataLoader\n",
    "from matplotlib import pyplot as plt"
   ]
  },
  {
   "cell_type": "code",
   "execution_count": 2,
   "id": "e80588f3",
   "metadata": {},
   "outputs": [
    {
     "name": "stderr",
     "output_type": "stream",
     "text": [
      "100%|██████████████████████████████████████████████████████████████████████████████| 26.4M/26.4M [01:25<00:00, 308kB/s]\n",
      "100%|██████████████████████████████████████████████████████████████████████████████| 29.5k/29.5k [00:00<00:00, 137kB/s]\n",
      "100%|██████████████████████████████████████████████████████████████████████████████| 4.42M/4.42M [00:12<00:00, 348kB/s]\n",
      "100%|█████████████████████████████████████████████████████████████████████████████████████| 5.15k/5.15k [00:00<?, ?B/s]\n"
     ]
    }
   ],
   "source": [
    "traning_data = datasets.FashionMNIST(\n",
    "    root='Data',\n",
    "    train=True,\n",
    "    download=True,\n",
    "    transform=ToTensor()\n",
    ")\n",
    "test_data = datasets.FashionMNIST(\n",
    "    root='Data',\n",
    "    train=False,\n",
    "    download=True,\n",
    "    transform=ToTensor()\n",
    ")"
   ]
  },
  {
   "cell_type": "code",
   "execution_count": 3,
   "id": "3f2462a5",
   "metadata": {},
   "outputs": [],
   "source": [
    "batch_size =64\n",
    "train_dataloader = DataLoader(traning_data,batch_size=batch_size)\n",
    "test_dataloader = DataLoader(test_data,batch_size=batch_size)"
   ]
  },
  {
   "cell_type": "code",
   "execution_count": 4,
   "id": "1bb65a89",
   "metadata": {},
   "outputs": [
    {
     "name": "stdout",
     "output_type": "stream",
     "text": [
      "torch.Size([64, 1, 28, 28]) torch.Size([64])\n"
     ]
    }
   ],
   "source": [
    "for images,labels in train_dataloader:\n",
    "    print(images.shape,labels.shape)\n",
    "    break"
   ]
  },
  {
   "cell_type": "code",
   "execution_count": 6,
   "id": "6d73de23",
   "metadata": {},
   "outputs": [
    {
     "data": {
      "text/plain": [
       "torch.Size([28, 28])"
      ]
     },
     "execution_count": 6,
     "metadata": {},
     "output_type": "execute_result"
    }
   ],
   "source": [
    "images[0].squeeze().shape"
   ]
  },
  {
   "cell_type": "code",
   "execution_count": 15,
   "id": "6887cc9a",
   "metadata": {},
   "outputs": [],
   "source": [
    "classes = [\n",
    "    \n",
    "\"T-shirt/top\",\n",
    "\"Trouser\"\n",
    "\"Pullover\",\n",
    "\"Dress\",\n",
    "\"Coat\",\n",
    "\"Sandal\",\n",
    "\"Shirt\",\n",
    "\"Sneaker\",\n",
    "\"Bag\",\n",
    "\"Ankle boot\"\n",
    "]\n"
   ]
  },
  {
   "cell_type": "code",
   "execution_count": 20,
   "id": "6ce25408",
   "metadata": {},
   "outputs": [
    {
     "data": {
      "text/plain": [
       "'Coat'"
      ]
     },
     "execution_count": 20,
     "metadata": {},
     "output_type": "execute_result"
    }
   ],
   "source": [
    "classes[labels[3].item()]"
   ]
  },
  {
   "cell_type": "code",
   "execution_count": 26,
   "id": "024000b9",
   "metadata": {},
   "outputs": [
    {
     "data": {
      "text/plain": [
       "'cpu'"
      ]
     },
     "execution_count": 26,
     "metadata": {},
     "output_type": "execute_result"
    }
   ],
   "source": [
    "device = (\"cuda\" if torch.cuda.is_available()\n",
    "          else \"mps\" if torch.mps.is_available()\n",
    "          else \"cpu\")\n",
    "device"
   ]
  },
  {
   "cell_type": "code",
   "execution_count": 39,
   "id": "dc97ec76",
   "metadata": {},
   "outputs": [],
   "source": [
    "class ClothsClassifier(nn.Module):\n",
    "    def __init__(self):\n",
    "        super().__init__()\n",
    "        self.network = nn.Sequential(\n",
    "        nn.Flatten(),\n",
    "        nn.Linear(28*28, 128),\n",
    "        nn.ReLU(),\n",
    "        nn.Linear(128,64),\n",
    "        nn.ReLU(),\n",
    "        nn.Linear(64,10)\n",
    "        )\n",
    "    def forward(self,x):\n",
    "        return self.network(x)\n",
    "    "
   ]
  },
  {
   "cell_type": "code",
   "execution_count": 45,
   "id": "046ca5b1",
   "metadata": {},
   "outputs": [],
   "source": [
    "model = ClothsClassifier().to(device)\n",
    "# optimizer = optim.SGD(model.parameters(), lr=0.001, momentum=0.9)\n",
    "optimizer = optim.Adam(model.parameters(), lr=0.001)\n",
    "loss_fn = nn.CrossEntropyLoss()"
   ]
  },
  {
   "cell_type": "code",
   "execution_count": 46,
   "id": "198e9903",
   "metadata": {},
   "outputs": [
    {
     "name": "stdout",
     "output_type": "stream",
     "text": [
      "Batch: 0, Loss: 2.294952392578125\n",
      "Batch: 100, Loss: 0.7799868583679199\n",
      "Batch: 200, Loss: 0.44511711597442627\n",
      "Batch: 300, Loss: 0.596030056476593\n",
      "Batch: 400, Loss: 0.4897603392601013\n",
      "Batch: 500, Loss: 0.46412980556488037\n",
      "Batch: 600, Loss: 0.4590095579624176\n",
      "Batch: 700, Loss: 0.620145857334137\n",
      "Batch: 800, Loss: 0.5258625149726868\n",
      "Batch: 900, Loss: 0.504522442817688\n",
      "Batch: 0, Loss: 0.31225907802581787\n",
      "Batch: 100, Loss: 0.38682791590690613\n",
      "Batch: 200, Loss: 0.3138648569583893\n",
      "Batch: 300, Loss: 0.47531652450561523\n",
      "Batch: 400, Loss: 0.39254578948020935\n",
      "Batch: 500, Loss: 0.3694356679916382\n",
      "Batch: 600, Loss: 0.38257312774658203\n",
      "Batch: 700, Loss: 0.5467535257339478\n",
      "Batch: 800, Loss: 0.46436572074890137\n",
      "Batch: 900, Loss: 0.473090797662735\n"
     ]
    }
   ],
   "source": [
    "epochs = 2\n",
    "for epoch in range(epochs):\n",
    "    for batch,(images,labels) in enumerate(train_dataloader):\n",
    "        images = images.to(device)\n",
    "        labels = labels.to(device)\n",
    "        \n",
    "        pred = model(images)\n",
    "        loss = loss_fn(pred,labels)\n",
    "        \n",
    "        loss.backward()\n",
    "        \n",
    "        optimizer.step()\n",
    "        optimizer.zero_grad()\n",
    "        \n",
    "        if batch %100==0:\n",
    "            print(f\"Batch: {batch}, Loss: {loss.item()}\")"
   ]
  },
  {
   "cell_type": "markdown",
   "id": "a0abe789",
   "metadata": {},
   "source": [
    "without momentum 2.31 to 2.03\n",
    "with momentum 2.31 to 0.69\n",
    "WITH ADAM 2.31 TO 0.47"
   ]
  },
  {
   "cell_type": "code",
   "execution_count": 50,
   "id": "9bce2a28",
   "metadata": {},
   "outputs": [],
   "source": [
    "# Testing the model\n",
    "model.eval() # Switch to evaluation mode\n",
    "\n",
    "all_predicted = []\n",
    "all_labels = []\n",
    "\n",
    "with torch.no_grad():\n",
    "    for images, labels in test_dataloader:\n",
    "        images = images.to(device)\n",
    "        labels = labels.to(device)\n",
    "\n",
    "        outputs = model(images)\n",
    "\n",
    "        _,predicted = torch.max(outputs.data, 1)\n",
    "\n",
    "        # Append Labels and predictions to lists\n",
    "        all_labels.extend(labels.cpu().numpy())\n",
    "        all_predicted.extend(predicted.cpu().numpy())"
   ]
  },
  {
   "cell_type": "code",
   "execution_count": 52,
   "id": "852bf6b6",
   "metadata": {},
   "outputs": [
    {
     "data": {
      "text/plain": [
       "[9, 2, 1, 1, 6]"
      ]
     },
     "execution_count": 52,
     "metadata": {},
     "output_type": "execute_result"
    }
   ],
   "source": [
    "all_labels[:5]"
   ]
  },
  {
   "cell_type": "code",
   "execution_count": 53,
   "id": "dc0d6484",
   "metadata": {},
   "outputs": [
    {
     "data": {
      "text/plain": [
       "tensor([3, 1, 7, 5, 8])"
      ]
     },
     "execution_count": 53,
     "metadata": {},
     "output_type": "execute_result"
    }
   ],
   "source": [
    "predicted[:5]"
   ]
  },
  {
   "cell_type": "code",
   "execution_count": 54,
   "id": "fe54d49a",
   "metadata": {},
   "outputs": [
    {
     "name": "stdout",
     "output_type": "stream",
     "text": [
      "              precision    recall  f1-score   support\n",
      "\n",
      "           0       0.80      0.84      0.82      1000\n",
      "           1       0.98      0.96      0.97      1000\n",
      "           2       0.86      0.58      0.69      1000\n",
      "           3       0.84      0.88      0.86      1000\n",
      "           4       0.63      0.90      0.74      1000\n",
      "           5       0.96      0.93      0.95      1000\n",
      "           6       0.73      0.55      0.63      1000\n",
      "           7       0.88      0.97      0.92      1000\n",
      "           8       0.93      0.97      0.95      1000\n",
      "           9       0.97      0.92      0.95      1000\n",
      "\n",
      "    accuracy                           0.85     10000\n",
      "   macro avg       0.86      0.85      0.85     10000\n",
      "weighted avg       0.86      0.85      0.85     10000\n",
      "\n"
     ]
    }
   ],
   "source": [
    "from sklearn.metrics import classification_report\n",
    "\n",
    "report = classification_report(all_labels, all_predicted)\n",
    "print(report)"
   ]
  },
  {
   "cell_type": "code",
   "execution_count": null,
   "id": "a0a66f17",
   "metadata": {},
   "outputs": [],
   "source": []
  }
 ],
 "metadata": {
  "kernelspec": {
   "display_name": "Python 3 (ipykernel)",
   "language": "python",
   "name": "python3"
  },
  "language_info": {
   "codemirror_mode": {
    "name": "ipython",
    "version": 3
   },
   "file_extension": ".py",
   "mimetype": "text/x-python",
   "name": "python",
   "nbconvert_exporter": "python",
   "pygments_lexer": "ipython3",
   "version": "3.11.4"
  }
 },
 "nbformat": 4,
 "nbformat_minor": 5
}
